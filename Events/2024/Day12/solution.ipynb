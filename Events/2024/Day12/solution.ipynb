{
 "cells": [
  {
   "cell_type": "markdown",
   "metadata": {},
   "source": [
    "# Advent of Code 2024 Day 12 "
   ]
  },
  {
   "cell_type": "markdown",
   "metadata": {},
   "source": [
    "### Setup"
   ]
  },
  {
   "cell_type": "code",
   "execution_count": 103,
   "metadata": {},
   "outputs": [],
   "source": [
    "from aocd import get_data, submit\n",
    "\n",
    "day = 12\n",
    "year = 2024\n"
   ]
  },
  {
   "cell_type": "code",
   "execution_count": null,
   "metadata": {},
   "outputs": [],
   "source": [
    "with open('example.txt', 'r') as file:\n",
    "    raw_sample_data = \"\".join(file.readlines())\n",
    "\n",
    "raw_sample_data[:100]"
   ]
  },
  {
   "cell_type": "code",
   "execution_count": null,
   "metadata": {},
   "outputs": [],
   "source": [
    "raw_test_data = get_data(day=day, year=year)\n",
    "\n",
    "raw_test_data[:]"
   ]
  },
  {
   "cell_type": "markdown",
   "metadata": {},
   "source": [
    "##### Data Parsing"
   ]
  },
  {
   "cell_type": "code",
   "execution_count": null,
   "metadata": {},
   "outputs": [],
   "source": [
    "import numpy as np \n",
    "\n",
    "def parse_data(raw_data:str):\n",
    "    return np.reshape(np.array([[c] for row in raw_data.split() for c in row]), (len(raw_data.split()), len(raw_data.split()[0])))\n",
    "\n",
    "sample_data = parse_data(raw_sample_data)\n",
    "test_data = parse_data(raw_test_data)\n",
    "\n",
    "sample_data.shape"
   ]
  },
  {
   "cell_type": "markdown",
   "metadata": {},
   "source": [
    "### Part One!"
   ]
  },
  {
   "cell_type": "code",
   "execution_count": 107,
   "metadata": {},
   "outputs": [],
   "source": [
    "use_sample_data = False\n",
    "part = 'a'"
   ]
  },
  {
   "cell_type": "code",
   "execution_count": null,
   "metadata": {},
   "outputs": [],
   "source": [
    "data = sample_data if use_sample_data else test_data\n",
    "\n",
    "data"
   ]
  },
  {
   "cell_type": "code",
   "execution_count": 109,
   "metadata": {},
   "outputs": [],
   "source": [
    "def is_out_of_bounds(pos, max_x, max_y):\n",
    "    return pos[0] < 0 or pos[0] >= max_x or pos[1] < 0 or pos[1] >= max_y"
   ]
  },
  {
   "cell_type": "code",
   "execution_count": 110,
   "metadata": {},
   "outputs": [],
   "source": [
    "def get_neighbor_indices(position: tuple[int, int], max_x: int, max_y: int, ignore_out_of_bounds: bool = False):\n",
    "    neighbors = []\n",
    "\n",
    "    if position[0] + 1 < max_x or ignore_out_of_bounds:\n",
    "        neighbors.append((position[0] + 1, position[1]))\n",
    "    \n",
    "    if position[0] - 1 >= 0 or ignore_out_of_bounds:\n",
    "        neighbors.append((position[0] - 1, position[1]))\n",
    "    \n",
    "    if position[1] + 1 < max_y or ignore_out_of_bounds:\n",
    "        neighbors.append((position[0], position[1] + 1))\n",
    "\n",
    "    if position[1] - 1 >= 0 or ignore_out_of_bounds:\n",
    "        neighbors.append((position[0], position[1] - 1))\n",
    "    \n",
    "    return neighbors\n"
   ]
  },
  {
   "cell_type": "code",
   "execution_count": 111,
   "metadata": {},
   "outputs": [],
   "source": [
    "import heapq\n",
    "\n",
    "def get_areas(data: np.ndarray):\n",
    "    areas = {}\n",
    "    for groupkey in np.unique(data):\n",
    "        areas.setdefault(groupkey, [])\n",
    "        indices = np.argwhere(data == groupkey)\n",
    "        \n",
    "        for index in (tuple(x) for x in indices):\n",
    "            matching_neighbors = [x for x in get_neighbor_indices(index, data.shape[0], data.shape[1]) if data[x] == groupkey]\n",
    "            assignments = []\n",
    "            for neighbor in matching_neighbors:\n",
    "                for group_idx, group in enumerate(areas[groupkey]):\n",
    "                    if group_idx in assignments:\n",
    "                        continue\n",
    "                    \n",
    "                    if neighbor in group:\n",
    "                        assignments.append(group_idx)\n",
    "                        continue\n",
    "\n",
    "            if not assignments:\n",
    "                areas[groupkey].append({index})\n",
    "\n",
    "            elif len(assignments) == 1:\n",
    "                areas[groupkey][assignments[0]].add(index)\n",
    "            \n",
    "            elif len(assignments) > 1:\n",
    "                combined = set([index])\n",
    "                for idx in assignments:\n",
    "                    combined.update(areas[groupkey][idx])\n",
    "                \n",
    "                areas[groupkey] = [x for idx, x in enumerate(areas[groupkey]) if idx not in assignments]\n",
    "                areas[groupkey].append(combined)\n",
    "                    \n",
    "    return areas"
   ]
  },
  {
   "cell_type": "code",
   "execution_count": 112,
   "metadata": {},
   "outputs": [],
   "source": [
    "def get_perimeters(data:np.array, areas: dict):\n",
    "    perimeters = {}\n",
    "\n",
    "    for groupkey, group in areas.items():\n",
    "        perimeters.setdefault(groupkey, [])\n",
    "        for area in group:\n",
    "            area_perimeter = 0\n",
    "            for position in area:\n",
    "                for neighbor in get_neighbor_indices(position, *data.shape, ignore_out_of_bounds=True):\n",
    "                    if neighbor not in area or is_out_of_bounds(neighbor, *data.shape):\n",
    "                        area_perimeter += 1\n",
    "                \n",
    "            perimeters[groupkey].append(area_perimeter)\n",
    "                    \n",
    "    return perimeters\n",
    "    "
   ]
  },
  {
   "cell_type": "code",
   "execution_count": 113,
   "metadata": {},
   "outputs": [],
   "source": [
    "def calculate_area_perimeter_product(areas: dict, perimeters: dict):\n",
    "    sum = 0\n",
    "    for groupkey, group in areas.items():\n",
    "        for idx, area in enumerate(group):\n",
    "            sum += len(area) * perimeters[groupkey][idx]\n",
    "\n",
    "    return sum"
   ]
  },
  {
   "cell_type": "code",
   "execution_count": null,
   "metadata": {},
   "outputs": [],
   "source": [
    "areas = get_areas(data)\n",
    "perimeters = get_perimeters(data, areas)\n",
    "\n",
    "part_a_answer = calculate_area_perimeter_product(areas, perimeters)\n",
    "part_a_answer"
   ]
  },
  {
   "cell_type": "code",
   "execution_count": null,
   "metadata": {},
   "outputs": [],
   "source": [
    "if not use_sample_data and part == 'a':\n",
    "    submit(answer=part_a_answer, part='a', day=day, year=year, reopen=True)"
   ]
  },
  {
   "cell_type": "markdown",
   "metadata": {},
   "source": [
    "### Part Two!"
   ]
  },
  {
   "cell_type": "code",
   "execution_count": 123,
   "metadata": {},
   "outputs": [],
   "source": [
    "use_sample_data = False\n",
    "part='b'"
   ]
  },
  {
   "cell_type": "code",
   "execution_count": null,
   "metadata": {},
   "outputs": [],
   "source": [
    "data = sample_data if use_sample_data else test_data\n",
    "data"
   ]
  },
  {
   "cell_type": "code",
   "execution_count": 125,
   "metadata": {},
   "outputs": [],
   "source": [
    "import numpy as np \n",
    "\n",
    "def get_area_sides(data:np.ndarray, points: set):\n",
    "    count = 0\n",
    "\n",
    "    # count top side (loop through all rows)\n",
    "    for row_idx, row in enumerate(data):\n",
    "        is_first_row = row_idx == 0\n",
    "        last = None\n",
    "        for col_idx, col in enumerate(row):\n",
    "            if (row_idx, col_idx) in points:\n",
    "                is_area_above = (row_idx - 1, col_idx) in points\n",
    "                is_continuation = last == (row_idx, col_idx - 1) and (is_first_row or (row_idx - 1, col_idx - 1) not in points)\n",
    "\n",
    "                if not is_area_above and not is_continuation:\n",
    "                    count += 1\n",
    "\n",
    "                last = (row_idx, col_idx)\n",
    "    \n",
    "                \n",
    "    # count bottom sides (loop through all rows)\n",
    "    for row_idx, row in enumerate(data):\n",
    "        is_last_row = row_idx == len(data) - 1\n",
    "        last = None\n",
    "        for col_idx, col in enumerate(row):\n",
    "            if (row_idx, col_idx) in points:\n",
    "                is_area_below = (row_idx + 1, col_idx) in points\n",
    "                is_continuation = last == (row_idx, col_idx - 1) and (is_last_row or (row_idx + 1, col_idx - 1) not in points)\n",
    "\n",
    "                if not is_area_below and not is_continuation:\n",
    "                    count += 1\n",
    "\n",
    "                last = (row_idx, col_idx)\n",
    "    \n",
    "    # count left side (loop through all columns)\n",
    "    for col_idx in range(len(data[0])):\n",
    "        is_first_col = col_idx == 0\n",
    "        last = None\n",
    "        for row_idx in range(len(data)):\n",
    "            if (row_idx, col_idx) in points:\n",
    "                is_area_left = (row_idx, col_idx - 1) in points\n",
    "                is_continuation = last == (row_idx - 1, col_idx) and (is_first_col or (row_idx - 1, col_idx - 1) not in points)\n",
    "\n",
    "                if not is_area_left and not is_continuation:\n",
    "                    count += 1\n",
    "\n",
    "                last = (row_idx, col_idx)\n",
    "    \n",
    "    # count right side (loop through all columns)\n",
    "    for col_idx in range(len(data[0])):\n",
    "        is_last_col = col_idx == len(data[0]) - 1\n",
    "        last = None\n",
    "        for row_idx in range(len(data)):\n",
    "            if (row_idx, col_idx) in points:\n",
    "                is_area_right = (row_idx, col_idx + 1) in points\n",
    "                is_continuation = last == (row_idx - 1, col_idx) and (is_last_col or (row_idx - 1, col_idx + 1) not in points)\n",
    "\n",
    "                if not is_area_right and not is_continuation:\n",
    "                    count += 1\n",
    "\n",
    "                last = (row_idx, col_idx)\n",
    "    \n",
    "    \n",
    "    return count\n",
    "    "
   ]
  },
  {
   "cell_type": "code",
   "execution_count": 126,
   "metadata": {},
   "outputs": [],
   "source": [
    "def get_sides(data, areas):\n",
    "    sides = {}\n",
    "    for groupkey, group in areas.items():\n",
    "        sides.setdefault(groupkey, [])\n",
    "        for area in group:\n",
    "            sides[groupkey].append(get_area_sides(data, area))\n",
    "    \n",
    "    return sides"
   ]
  },
  {
   "cell_type": "code",
   "execution_count": 127,
   "metadata": {},
   "outputs": [],
   "source": [
    "def calculate_area_side_product(areas: dict, sides: dict):\n",
    "    sum = 0\n",
    "    for groupkey, group in areas.items():\n",
    "        for idx, area in enumerate(group):\n",
    "            sum += len(area) * sides[groupkey][idx]\n",
    "\n",
    "    return sum"
   ]
  },
  {
   "cell_type": "code",
   "execution_count": null,
   "metadata": {},
   "outputs": [],
   "source": [
    "areas = get_areas(data)\n",
    "sides = get_sides(data, areas)\n",
    "\n",
    "part_b_answer = calculate_area_side_product(areas, sides)\n",
    "part_b_answer"
   ]
  },
  {
   "cell_type": "code",
   "execution_count": null,
   "metadata": {},
   "outputs": [],
   "source": [
    "if not use_sample_data and part == 'b':\n",
    "    submit(answer=part_b_answer, part='b', day=day, year=year, reopen=True)"
   ]
  },
  {
   "cell_type": "code",
   "execution_count": null,
   "metadata": {},
   "outputs": [],
   "source": []
  }
 ],
 "metadata": {
  "kernelspec": {
   "display_name": ".venv",
   "language": "python",
   "name": "python3"
  },
  "language_info": {
   "codemirror_mode": {
    "name": "ipython",
    "version": 3
   },
   "file_extension": ".py",
   "mimetype": "text/x-python",
   "name": "python",
   "nbconvert_exporter": "python",
   "pygments_lexer": "ipython3",
   "version": "3.13.1"
  }
 },
 "nbformat": 4,
 "nbformat_minor": 2
}
