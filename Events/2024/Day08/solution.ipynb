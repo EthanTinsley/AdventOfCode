{
 "cells": [
  {
   "cell_type": "markdown",
   "metadata": {},
   "source": [
    "# Advent of Code 2024 Day 8 "
   ]
  },
  {
   "cell_type": "markdown",
   "metadata": {},
   "source": [
    "### Setup"
   ]
  },
  {
   "cell_type": "code",
   "execution_count": null,
   "metadata": {},
   "outputs": [],
   "source": [
    "from aocd import get_data, submit\n",
    "\n",
    "day = 8\n",
    "year = 2024\n"
   ]
  },
  {
   "cell_type": "code",
   "execution_count": null,
   "metadata": {},
   "outputs": [],
   "source": [
    "with open('example.txt', 'r') as file:\n",
    "    raw_sample_data = \"\".join(file.readlines())\n",
    "\n",
    "raw_sample_data[:100]"
   ]
  },
  {
   "cell_type": "code",
   "execution_count": null,
   "metadata": {},
   "outputs": [],
   "source": [
    "raw_test_data = get_data(day=day, year=year)\n",
    "\n",
    "raw_test_data[:]"
   ]
  },
  {
   "cell_type": "markdown",
   "metadata": {},
   "source": [
    "##### Data Parsing"
   ]
  },
  {
   "cell_type": "code",
   "execution_count": null,
   "metadata": {},
   "outputs": [],
   "source": [
    "def parse_data(raw_data:str):\n",
    "    return [[c for c in s] for s in raw_data.split('\\n') ]\n",
    "\n",
    "sample_data = parse_data(raw_sample_data)\n",
    "test_data = parse_data(raw_test_data)\n",
    "\n",
    "sample_data"
   ]
  },
  {
   "cell_type": "markdown",
   "metadata": {},
   "source": [
    "### Part One!"
   ]
  },
  {
   "cell_type": "code",
   "execution_count": null,
   "metadata": {},
   "outputs": [],
   "source": [
    "use_sample_data = False\n",
    "part = 'a'"
   ]
  },
  {
   "cell_type": "code",
   "execution_count": null,
   "metadata": {},
   "outputs": [],
   "source": [
    "data = sample_data if use_sample_data else test_data\n",
    "\n",
    "data"
   ]
  },
  {
   "cell_type": "code",
   "execution_count": null,
   "metadata": {},
   "outputs": [],
   "source": [
    "# get the unique signals \n",
    "frequencies = set([ c for row in data for c in row if c.isalnum() ])\n",
    "\n",
    "frequencies"
   ]
  },
  {
   "cell_type": "code",
   "execution_count": null,
   "metadata": {},
   "outputs": [],
   "source": [
    "def get_frequency_locations(graph:list[list[str]], frequency:str):\n",
    "    locations = []\n",
    "    for i, row in enumerate(graph):\n",
    "        for j, c in enumerate(row):\n",
    "            if c == frequency:\n",
    "                locations.append((i, j))\n",
    "    \n",
    "    return locations"
   ]
  },
  {
   "cell_type": "code",
   "execution_count": null,
   "metadata": {},
   "outputs": [],
   "source": [
    "def apply_frequency_pattern(location01, location02, max_row, max_col, boosted=False, boost_strength=1):\n",
    "    row_diff = location01[0] - location02[0]\n",
    "    col_diff = location01[1] - location02[1] \n",
    "    \n",
    "    out_of_bounds = lambda x, y: x < 0 or y < 0 or x >= max_row or y >= max_col\n",
    "\n",
    "    if not boosted:\n",
    "        new_row = location01[0] + row_diff\n",
    "        new_col = location01[1] + col_diff\n",
    "\n",
    "        if out_of_bounds(new_row, new_col):\n",
    "            return []\n",
    "\n",
    "        return [(new_row, new_col)]\n",
    "    \n",
    "    else:\n",
    "        positions = [location01, location02]\n",
    "\n",
    "        for modifier in range(1, boost_strength + 1):\n",
    "            new_row = location01[0] + ( row_diff * modifier )\n",
    "            new_col = location01[1] + ( col_diff * modifier )\n",
    "\n",
    "            if out_of_bounds(new_row, new_col):\n",
    "                continue\n",
    "\n",
    "            positions.append((new_row, new_col))\n",
    "    \n",
    "        return list(set(positions))\n",
    "                \n",
    "\n",
    "    "
   ]
  },
  {
   "cell_type": "code",
   "execution_count": null,
   "metadata": {},
   "outputs": [],
   "source": [
    "def get_frequency_antinodes(data: list[list[str]], frequency:str, boosted=False):\n",
    "    max_row, max_col = len(data), len(data[0])\n",
    "    frequency_locations = get_frequency_locations(data, frequency)\n",
    "\n",
    "    antinodes = []\n",
    "    for location in frequency_locations:\n",
    "        for location02 in frequency_locations:\n",
    "            if location == location02:\n",
    "                continue\n",
    "\n",
    "            antinodes += apply_frequency_pattern(location, location02, max_row, max_col, boosted=boosted, boost_strength=len(data))\n",
    "\n",
    "    # antinodes = ( node for node in antinodes for location in frequency_locations if node not in frequency_locations )\n",
    "\n",
    "    return list(set(antinodes))"
   ]
  },
  {
   "cell_type": "code",
   "execution_count": null,
   "metadata": {},
   "outputs": [],
   "source": [
    "antinodes = []\n",
    "for frequency in frequencies:\n",
    "    antinodes += get_frequency_antinodes(data, frequency)\n",
    "\n",
    "answer = len(set(antinodes))\n",
    "\n",
    "answer"
   ]
  },
  {
   "cell_type": "code",
   "execution_count": null,
   "metadata": {},
   "outputs": [],
   "source": [
    "if not use_sample_data and part == 'a':\n",
    "    submit(answer=answer, part='a', day=day, year=year, reopen=True)"
   ]
  },
  {
   "cell_type": "markdown",
   "metadata": {},
   "source": [
    "### Part Two!"
   ]
  },
  {
   "cell_type": "code",
   "execution_count": null,
   "metadata": {},
   "outputs": [],
   "source": [
    "use_sample_data = False\n",
    "part='b'"
   ]
  },
  {
   "cell_type": "code",
   "execution_count": null,
   "metadata": {},
   "outputs": [],
   "source": [
    "data = sample_data if use_sample_data else test_data"
   ]
  },
  {
   "cell_type": "code",
   "execution_count": null,
   "metadata": {},
   "outputs": [],
   "source": [
    "# get the unique signals \n",
    "frequencies = set([ c for row in data for c in row if c.isalnum() ])\n",
    "\n",
    "frequencies"
   ]
  },
  {
   "cell_type": "code",
   "execution_count": null,
   "metadata": {},
   "outputs": [],
   "source": [
    "antinodes = []\n",
    "for frequency in frequencies:\n",
    "    antinodes += get_frequency_antinodes(data, frequency, boosted=True)\n",
    "\n",
    "answer = len(set(antinodes))\n",
    "\n",
    "answer"
   ]
  },
  {
   "cell_type": "code",
   "execution_count": null,
   "metadata": {},
   "outputs": [],
   "source": [
    "if not use_sample_data and part == 'b':\n",
    "    submit(answer=answer, part='b', day=day, year=year, reopen=True)"
   ]
  },
  {
   "cell_type": "code",
   "execution_count": null,
   "metadata": {},
   "outputs": [],
   "source": []
  }
 ],
 "metadata": {
  "kernelspec": {
   "display_name": ".venv",
   "language": "python",
   "name": "python3"
  },
  "language_info": {
   "codemirror_mode": {
    "name": "ipython",
    "version": 3
   },
   "file_extension": ".py",
   "mimetype": "text/x-python",
   "name": "python",
   "nbconvert_exporter": "python",
   "pygments_lexer": "ipython3",
   "version": "3.13.1"
  }
 },
 "nbformat": 4,
 "nbformat_minor": 2
}
