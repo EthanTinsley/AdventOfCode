{
 "cells": [
  {
   "cell_type": "markdown",
   "metadata": {},
   "source": [
    "# Advent of Code 2024 Day 19 "
   ]
  },
  {
   "cell_type": "markdown",
   "metadata": {},
   "source": [
    "### Setup"
   ]
  },
  {
   "cell_type": "code",
   "execution_count": 84,
   "metadata": {},
   "outputs": [],
   "source": [
    "from aocd import get_data, submit\n",
    "\n",
    "day = 19\n",
    "year = 2024\n"
   ]
  },
  {
   "cell_type": "code",
   "execution_count": null,
   "metadata": {},
   "outputs": [],
   "source": [
    "with open('example.txt', 'r') as file:\n",
    "    raw_sample_data = \"\".join(file.readlines())\n",
    "\n",
    "raw_sample_data[:100]"
   ]
  },
  {
   "cell_type": "code",
   "execution_count": null,
   "metadata": {},
   "outputs": [],
   "source": [
    "raw_test_data = get_data(day=day, year=year)\n",
    "\n",
    "raw_test_data[:]"
   ]
  },
  {
   "cell_type": "markdown",
   "metadata": {},
   "source": [
    "##### Data Parsing"
   ]
  },
  {
   "cell_type": "code",
   "execution_count": null,
   "metadata": {},
   "outputs": [],
   "source": [
    "import numpy as np\n",
    "\n",
    "def parse_data(raw_data:str):\n",
    "    lines = raw_data.splitlines()\n",
    "\n",
    "    available = {key.strip(): np.inf for key in lines[0].split(\",\") }\n",
    "\n",
    "    patterns = lines[2:]\n",
    "\n",
    "    return {\n",
    "        'available': available,\n",
    "        'patterns': patterns\n",
    "    }\n",
    "\n",
    "sample_data = parse_data(raw_sample_data)\n",
    "test_data = parse_data(raw_test_data)\n",
    "\n",
    "sample_data"
   ]
  },
  {
   "cell_type": "markdown",
   "metadata": {},
   "source": [
    "### Part One!"
   ]
  },
  {
   "cell_type": "code",
   "execution_count": 88,
   "metadata": {},
   "outputs": [],
   "source": [
    "use_sample_data = False\n",
    "part = 'a'"
   ]
  },
  {
   "cell_type": "code",
   "execution_count": null,
   "metadata": {},
   "outputs": [],
   "source": [
    "data = sample_data if use_sample_data else test_data\n",
    "\n",
    "data"
   ]
  },
  {
   "cell_type": "code",
   "execution_count": 90,
   "metadata": {},
   "outputs": [],
   "source": [
    "def construct_pattern(pattern:str, available:dict, memo:dict) -> list | None:\n",
    "    memo = memo\n",
    "\n",
    "    if pattern in memo:\n",
    "        return memo[pattern]\n",
    "    \n",
    "    if pattern in available:\n",
    "        memo[pattern] = [pattern]\n",
    "        return memo[pattern]\n",
    "    \n",
    "    if not pattern:\n",
    "        return None\n",
    "    \n",
    "    for i in range(1, len(pattern)):\n",
    "        left = construct_pattern(pattern[:i], available, memo)\n",
    "\n",
    "        if not left:\n",
    "            continue\n",
    "\n",
    "        right = construct_pattern(pattern[i:], available, memo)\n",
    "\n",
    "        if left and right:\n",
    "            memo[pattern] = left + right\n",
    "            return memo[pattern]\n",
    "    \n",
    "\n",
    "    memo[pattern] = None\n",
    "    return None"
   ]
  },
  {
   "cell_type": "code",
   "execution_count": 93,
   "metadata": {},
   "outputs": [],
   "source": [
    "def count_valid_pattern_arrangements(patterns: list, available: dict) -> int:\n",
    "    memo = {}\n",
    "    count = 0\n",
    "    for i, pattern in enumerate(patterns):\n",
    "        if  i % 100 == 0: print(f'Pattern {i+1}/{len(patterns)}')\n",
    "        result = construct_pattern(pattern, available, memo)\n",
    "        if result:\n",
    "            count += 1\n",
    "    return count"
   ]
  },
  {
   "cell_type": "code",
   "execution_count": null,
   "metadata": {},
   "outputs": [],
   "source": [
    "\n",
    "part_a_answer = count_valid_pattern_arrangements(**data)\n",
    "part_a_answer"
   ]
  },
  {
   "cell_type": "code",
   "execution_count": null,
   "metadata": {},
   "outputs": [],
   "source": [
    "if not use_sample_data and part == 'a':\n",
    "    submit(answer=part_a_answer, part='a', day=day, year=year, reopen=True)"
   ]
  },
  {
   "cell_type": "markdown",
   "metadata": {},
   "source": [
    "### Part Two!"
   ]
  },
  {
   "cell_type": "code",
   "execution_count": 73,
   "metadata": {},
   "outputs": [],
   "source": [
    "use_sample_data = False\n",
    "part='b'"
   ]
  },
  {
   "cell_type": "code",
   "execution_count": 74,
   "metadata": {},
   "outputs": [],
   "source": [
    "data = sample_data if use_sample_data else test_data"
   ]
  },
  {
   "cell_type": "code",
   "execution_count": 99,
   "metadata": {},
   "outputs": [],
   "source": [
    "def count_every_possible_arrangement(pattern:str, available:set, memo: dict) -> int | None:\n",
    "    if pattern in memo:\n",
    "        return memo[pattern]\n",
    "    \n",
    "    if len(pattern) == 0:\n",
    "        return 1\n",
    "    \n",
    "    count = 0\n",
    "    for i in range(1, len(pattern)+1):\n",
    "        left, right = pattern[:i], pattern[i:]\n",
    "\n",
    "        # avoid double counting by producing the incorrect pattern\n",
    "        if left not in available:\n",
    "            continue\n",
    "\n",
    "        count += count_every_possible_arrangement(right, available, memo)\n",
    "\n",
    "    if pattern not in memo:\n",
    "        memo[pattern] = count\n",
    "\n",
    "    return count"
   ]
  },
  {
   "cell_type": "code",
   "execution_count": 100,
   "metadata": {},
   "outputs": [],
   "source": [
    "def count_every_possible_pattern_arrangements(patterns: list, available: dict) -> int:\n",
    "    memo = {}\n",
    "    count = 0\n",
    "    for i, pattern in enumerate(patterns):\n",
    "        if (i % 100 == 0):\n",
    "            print(f'Pattern {i+1}/{len(patterns)}')\n",
    "\n",
    "        count += count_every_possible_arrangement(pattern, available, memo)\n",
    "        \n",
    "    return count"
   ]
  },
  {
   "cell_type": "code",
   "execution_count": null,
   "metadata": {},
   "outputs": [],
   "source": [
    "part_b_answer = count_every_possible_pattern_arrangements(**data)\n",
    "part_b_answer"
   ]
  },
  {
   "cell_type": "code",
   "execution_count": 98,
   "metadata": {},
   "outputs": [],
   "source": [
    "if not use_sample_data and part == 'b':\n",
    "    submit(answer=part_b_answer, part='b', day=day, year=year, reopen=True)"
   ]
  },
  {
   "cell_type": "code",
   "execution_count": null,
   "metadata": {},
   "outputs": [],
   "source": []
  }
 ],
 "metadata": {
  "kernelspec": {
   "display_name": ".venv",
   "language": "python",
   "name": "python3"
  },
  "language_info": {
   "codemirror_mode": {
    "name": "ipython",
    "version": 3
   },
   "file_extension": ".py",
   "mimetype": "text/x-python",
   "name": "python",
   "nbconvert_exporter": "python",
   "pygments_lexer": "ipython3",
   "version": "3.13.1"
  }
 },
 "nbformat": 4,
 "nbformat_minor": 2
}
