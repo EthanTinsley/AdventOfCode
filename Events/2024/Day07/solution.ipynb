{
 "cells": [
  {
   "cell_type": "markdown",
   "metadata": {},
   "source": [
    "# Advent of Code 2024 Day 7 "
   ]
  },
  {
   "cell_type": "markdown",
   "metadata": {},
   "source": [
    "### Setup"
   ]
  },
  {
   "cell_type": "code",
   "execution_count": null,
   "metadata": {},
   "outputs": [],
   "source": [
    "from aocd import get_data, submit\n",
    "\n",
    "day = 7\n",
    "year = 2024\n"
   ]
  },
  {
   "cell_type": "code",
   "execution_count": null,
   "metadata": {},
   "outputs": [],
   "source": [
    "with open('example.txt', 'r') as file:\n",
    "    raw_sample_data = \"\".join(file.readlines())\n",
    "\n",
    "raw_sample_data[:100]"
   ]
  },
  {
   "cell_type": "code",
   "execution_count": null,
   "metadata": {},
   "outputs": [],
   "source": [
    "raw_test_data = get_data(day=day, year=year)\n",
    "\n",
    "raw_test_data[:]"
   ]
  },
  {
   "cell_type": "markdown",
   "metadata": {},
   "source": [
    "##### Data Parsing"
   ]
  },
  {
   "cell_type": "code",
   "execution_count": null,
   "metadata": {},
   "outputs": [],
   "source": [
    "def parse_data(raw_data:str):\n",
    "    # map each row to a dict\n",
    "    parsed_data = raw_data.split('\\n')\n",
    "\n",
    "    normalized_data = []\n",
    "    for row in parsed_data:\n",
    "        target, terms = row.split(':')\n",
    "        normalized_data.append( [ int(target) ] + [ int(term) for term in terms.split() ])\n",
    "\n",
    "    return normalized_data\n",
    "\n",
    "sample_data = parse_data(raw_sample_data)\n",
    "test_data = parse_data(raw_test_data)"
   ]
  },
  {
   "cell_type": "markdown",
   "metadata": {},
   "source": [
    "### Part One!"
   ]
  },
  {
   "cell_type": "code",
   "execution_count": null,
   "metadata": {},
   "outputs": [],
   "source": [
    "use_sample_data = False\n",
    "part = 'a'"
   ]
  },
  {
   "cell_type": "code",
   "execution_count": null,
   "metadata": {},
   "outputs": [],
   "source": [
    "data = sample_data if use_sample_data else test_data\n",
    "\n",
    "data"
   ]
  },
  {
   "cell_type": "code",
   "execution_count": null,
   "metadata": {},
   "outputs": [],
   "source": [
    "# crate type alias for the operators \n",
    "from typing import Literal, Union\n",
    "\n",
    "Operator = Literal[\"+\", \"*\", \"||\"]"
   ]
  },
  {
   "cell_type": "code",
   "execution_count": null,
   "metadata": {},
   "outputs": [],
   "source": [
    "def perform_operation(num1:int, num2:int, operator:Operator) -> int:\n",
    "    match operator:\n",
    "        case \"+\":\n",
    "            return num1 + num2\n",
    "        \n",
    "        case \"*\":\n",
    "            return num1 * num2\n",
    "        \n",
    "        case \"||\":\n",
    "            return int(str(num1) + str(num2))\n",
    "\n",
    "        case _:\n",
    "            raise ArithmeticError()\n",
    "        "
   ]
  },
  {
   "cell_type": "code",
   "execution_count": null,
   "metadata": {},
   "outputs": [],
   "source": [
    "from itertools import combinations, product, permutations\n",
    "\n",
    "def is_valid_equation(target: int, terms:list[int], operators:list[Operator] = ['+', '*']):\n",
    "    if (len(terms) == 0):\n",
    "        return False\n",
    "    \n",
    "    if (len(terms) == 1):\n",
    "        return target == terms[0]\n",
    "\n",
    "    operator_combinations = product(operators, repeat=len(terms) - 1)\n",
    "    \n",
    "    for combination in operator_combinations:\n",
    "        result = terms[0]\n",
    "        for term, op in zip(terms[1:], combination):\n",
    "            result = perform_operation(result, term, op)\n",
    "        \n",
    "        if result == target:\n",
    "            return True\n",
    "        \n",
    "    return False\n"
   ]
  },
  {
   "cell_type": "code",
   "execution_count": null,
   "metadata": {},
   "outputs": [],
   "source": [
    "valid_equations = []\n",
    "ans = 0\n",
    "\n",
    "for target, *terms in data:\n",
    "\n",
    "    if is_valid_equation(target, terms):\n",
    "        valid_equations.append(target)\n",
    "    \n",
    "answer = sum(valid_equations)\n",
    "\n",
    "answer"
   ]
  },
  {
   "cell_type": "code",
   "execution_count": null,
   "metadata": {},
   "outputs": [],
   "source": [
    "if not use_sample_data and part == 'a':\n",
    "    submit(answer=answer, part='a', day=day, year=year, reopen=True)"
   ]
  },
  {
   "cell_type": "markdown",
   "metadata": {},
   "source": [
    "### Part Two!"
   ]
  },
  {
   "cell_type": "code",
   "execution_count": null,
   "metadata": {},
   "outputs": [],
   "source": [
    "use_sample_data = False\n",
    "part='b'"
   ]
  },
  {
   "cell_type": "code",
   "execution_count": null,
   "metadata": {},
   "outputs": [],
   "source": [
    "data = sample_data if use_sample_data else test_data"
   ]
  },
  {
   "cell_type": "code",
   "execution_count": null,
   "metadata": {},
   "outputs": [],
   "source": [
    "valid_equations = []\n",
    "ans = 0\n",
    "\n",
    "for target, *terms in data:\n",
    "\n",
    "    if is_valid_equation(target, terms, operators=['+', '*', '||']):\n",
    "        valid_equations.append(target)\n",
    "    \n",
    "answer = sum(valid_equations)\n",
    "\n",
    "answer"
   ]
  },
  {
   "cell_type": "code",
   "execution_count": null,
   "metadata": {},
   "outputs": [],
   "source": [
    "perform_operation(12, 345, '||')"
   ]
  },
  {
   "cell_type": "code",
   "execution_count": null,
   "metadata": {},
   "outputs": [],
   "source": [
    "if not use_sample_data and part == 'b':\n",
    "    submit(answer=answer, part='b', day=day, year=year, reopen=True)"
   ]
  },
  {
   "cell_type": "code",
   "execution_count": null,
   "metadata": {},
   "outputs": [],
   "source": []
  }
 ],
 "metadata": {
  "kernelspec": {
   "display_name": ".venv",
   "language": "python",
   "name": "python3"
  },
  "language_info": {
   "codemirror_mode": {
    "name": "ipython",
    "version": 3
   },
   "file_extension": ".py",
   "mimetype": "text/x-python",
   "name": "python",
   "nbconvert_exporter": "python",
   "pygments_lexer": "ipython3",
   "version": "3.13.1"
  }
 },
 "nbformat": 4,
 "nbformat_minor": 2
}
