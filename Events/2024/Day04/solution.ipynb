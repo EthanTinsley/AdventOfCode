{
 "cells": [
  {
   "cell_type": "markdown",
   "metadata": {},
   "source": [
    "# Advent of Code 2024 Day 4 "
   ]
  },
  {
   "cell_type": "markdown",
   "metadata": {},
   "source": [
    "### Setup\n",
    "\n",
    "First we need to instantiate some control variables and read in our example and testing data."
   ]
  },
  {
   "cell_type": "code",
   "execution_count": null,
   "metadata": {},
   "outputs": [],
   "source": [
    "from aocd import get_data, submit\n",
    "\n",
    "day = 4\n",
    "year = 2024\n"
   ]
  },
  {
   "cell_type": "code",
   "execution_count": null,
   "metadata": {},
   "outputs": [],
   "source": [
    "with open('example.txt', 'r') as file:\n",
    "    raw_sample_data = \"\".join(file.readlines())\n",
    "\n",
    "raw_sample_data[:100]"
   ]
  },
  {
   "cell_type": "code",
   "execution_count": null,
   "metadata": {},
   "outputs": [],
   "source": [
    "raw_test_data = get_data(day=day, year=year)\n",
    "\n",
    "raw_test_data[:]"
   ]
  },
  {
   "cell_type": "markdown",
   "metadata": {},
   "source": [
    "##### Data Parsing\n",
    "\n",
    "Both the test and sample data will be stored as a string. The string is unique to the given problem so we will need to implement parse_data in order to store it in a data structure that is useful!"
   ]
  },
  {
   "cell_type": "code",
   "execution_count": null,
   "metadata": {},
   "outputs": [],
   "source": [
    "def parse_data(raw_data):\n",
    "    return raw_data.split() # you should parse data here\n",
    "\n",
    "sample_data = parse_data(raw_sample_data)\n",
    "test_data = parse_data(raw_test_data)"
   ]
  },
  {
   "cell_type": "markdown",
   "metadata": {},
   "source": [
    "### Part One!"
   ]
  },
  {
   "cell_type": "code",
   "execution_count": null,
   "metadata": {},
   "outputs": [],
   "source": [
    "use_sample_data = True\n",
    "part = 'a'"
   ]
  },
  {
   "cell_type": "code",
   "execution_count": null,
   "metadata": {},
   "outputs": [],
   "source": [
    "data = sample_data if use_sample_data else test_data"
   ]
  },
  {
   "cell_type": "code",
   "execution_count": null,
   "metadata": {},
   "outputs": [],
   "source": [
    "def get_col(grid:list[list[str]], i:int):\n",
    "    return [ row[i] for row in grid ]\n",
    "\n",
    "def get_cols(grid: list[list[str]]):\n",
    "    cols = []\n",
    "    for i in range(len(grid)):\n",
    "        cols.append(get_col(grid, i))\n",
    "\n",
    "    return cols"
   ]
  },
  {
   "cell_type": "code",
   "execution_count": null,
   "metadata": {},
   "outputs": [],
   "source": [
    "def get_diagonal(grid: list[list[str]]) -> list[str]:\n",
    "    diagonal = []\n",
    "    for i in range(len(grid)):\n",
    "        for j in range(len(grid[0])):\n",
    "            if i == j:\n",
    "                diagonal.append(grid[i][j])\n",
    "\n",
    "    return diagonal\n"
   ]
  },
  {
   "cell_type": "code",
   "execution_count": null,
   "metadata": {},
   "outputs": [],
   "source": [
    "def get_filter(grid:list[list[str]], size:int, row:int, col:int) -> list[list[str]]:\n",
    "    max_row = len(grid[0])\n",
    "    max_col = len(grid) \n",
    "    \n",
    "    upper_bound_row = min(row + size, max_row)\n",
    "    upper_bound_col = min(col + size, max_col)\n",
    "\n",
    "    rows = grid[row : upper_bound_row]\n",
    "\n",
    "    return [ row[col : upper_bound_col] for row in rows]\n"
   ]
  },
  {
   "cell_type": "code",
   "execution_count": null,
   "metadata": {},
   "outputs": [],
   "source": [
    "def search_filter(grid_filter: list[list[str]], search_term: str):\n",
    "    search_term_reverse = search_term[::-1]\n",
    "\n",
    "    rows = [\"\".join(row) for row in grid_filter]\n",
    "    cols = [\"\".join(col) for col in get_cols(grid_filter)]\n",
    "    \n",
    "    diag_left_to_right = \"\".join(get_diagonal(grid_filter))\n",
    "    diag_right_to_left = \"\".join(get_diagonal([ row[::-1] for row in grid_filter ]))\n",
    "\n",
    "    matches = []\n",
    "\n",
    "    # Horizontal\n",
    "    for row_idx, row in enumerate(rows):\n",
    "        if search_term in row:\n",
    "            col_idx = row.index(search_term)\n",
    "            matches.append((row_idx, col_idx, \"horizontal\"))\n",
    "\n",
    "        if search_term_reverse in row:\n",
    "            col_idx = row.index(search_term_reverse)\n",
    "            matches.append((row_idx, col_idx, \"horizontal-reverse\"))\n",
    "\n",
    "    # Vertical\n",
    "    for col_idx, col in enumerate(cols):\n",
    "        if search_term in col:\n",
    "            row_idx = col.index(search_term)\n",
    "            matches.append((row_idx, col_idx, \"vertical\"))\n",
    "\n",
    "        if search_term_reverse in col:\n",
    "            row_idx = col.index(search_term_reverse)\n",
    "            matches.append((row_idx, col_idx, \"vertical-reverse\"))\n",
    "\n",
    "    # Diagonal left to right\n",
    "    if search_term in diag_left_to_right:\n",
    "        idx = diag_left_to_right.index(search_term)\n",
    "        matches.append((idx, idx, \"diagonal-left-to-right\"))\n",
    "    \n",
    "    if search_term_reverse in diag_left_to_right:\n",
    "        idx = diag_left_to_right.index(search_term_reverse)\n",
    "        matches.append((idx, idx, \"diagonal-left-to-right-reverse\"))\n",
    "    \n",
    "    # Diagonal right to left\n",
    "    if search_term in diag_right_to_left:\n",
    "        idx = diag_right_to_left.index(search_term)\n",
    "        matches.append((idx, len(diag_right_to_left) - idx - 1, \"diagonal-right-to-left\"))\n",
    "\n",
    "    if search_term_reverse in diag_right_to_left:\n",
    "        idx = diag_right_to_left.index(search_term_reverse)\n",
    "        matches.append((idx, len(diag_right_to_left) - idx - 1, \"diagonal-right-to-left-reverse\"))\n",
    "\n",
    "    return matches\n"
   ]
  },
  {
   "cell_type": "code",
   "execution_count": null,
   "metadata": {},
   "outputs": [],
   "source": [
    "def filter_search(grid: list[list[str]], search_term: str) -> dict:\n",
    "    row_size = len(grid)\n",
    "    col_size = len(grid[0])\n",
    "    filter_size = len(search_term)\n",
    "    results = { \"matches\": [], \"count\": 0 }\n",
    "    visited = set()  # To track visited positions\n",
    "\n",
    "    for i in range(row_size - filter_size + 1):\n",
    "        for j in range(col_size - filter_size + 1):\n",
    "            # Get the grid filter\n",
    "            grid_filter = get_filter(grid, filter_size, i, j)\n",
    "\n",
    "            # Get matches in the local filter\n",
    "            match_positions = search_filter(grid_filter, search_term)\n",
    "\n",
    "            # Normalize positions and avoid duplicates\n",
    "            for local_row, local_col, direction in match_positions:\n",
    "                global_row, global_col = i + local_row, j + local_col  # Normalize indices\n",
    "                global_position = (global_row, global_col, direction)\n",
    "\n",
    "                if global_position not in visited:\n",
    "                    visited.add(global_position)\n",
    "                    results[\"matches\"].append(global_position)\n",
    "                    results['count'] += 1\n",
    "\n",
    "    return results\n"
   ]
  },
  {
   "cell_type": "code",
   "execution_count": null,
   "metadata": {},
   "outputs": [],
   "source": [
    "results = filter_search(data, search_term='XMAS')\n",
    "results"
   ]
  },
  {
   "cell_type": "code",
   "execution_count": null,
   "metadata": {},
   "outputs": [],
   "source": [
    "if not use_sample_data and part == 'a':\n",
    "    submit(answer=results['count'], part='a', day=day, year=year, reopen=True)"
   ]
  },
  {
   "cell_type": "markdown",
   "metadata": {},
   "source": [
    "### Part Two!"
   ]
  },
  {
   "cell_type": "code",
   "execution_count": null,
   "metadata": {},
   "outputs": [],
   "source": [
    "use_sample_data = True\n",
    "part='b'"
   ]
  },
  {
   "cell_type": "code",
   "execution_count": null,
   "metadata": {},
   "outputs": [],
   "source": [
    "data = sample_data if use_sample_data else test_data"
   ]
  },
  {
   "cell_type": "code",
   "execution_count": null,
   "metadata": {},
   "outputs": [],
   "source": [
    "def matches_pattern(grid: list[list[str]]) -> bool:\n",
    "    search_term = 'MAS'\n",
    "    search_term_reverse = search_term[::-1]\n",
    "\n",
    "    diag_left_to_right = \"\".join(get_diagonal(grid))\n",
    "    diag_right_to_left = \"\".join(get_diagonal([ row[::-1] for row in grid ]))\n",
    "\n",
    "    # check diagonal left-to-right\n",
    "    if (search_term not in diag_left_to_right) and (search_term_reverse not in diag_left_to_right):\n",
    "        return False\n",
    "    \n",
    "    if (search_term not in diag_right_to_left) and (search_term_reverse not in diag_right_to_left):\n",
    "        return False\n",
    "    \n",
    "    return True"
   ]
  },
  {
   "cell_type": "code",
   "execution_count": null,
   "metadata": {},
   "outputs": [],
   "source": [
    "def pattern_search(grid: list[list[str]], filter_size:int, pattern:callable) -> dict:\n",
    "    row_size = len(grid)\n",
    "    col_size = len(grid[0])\n",
    "\n",
    "    result = { \"matches\": [], \"count\": 0 }\n",
    "\n",
    "    for i in range(row_size - filter_size + 1):\n",
    "        for j in range(col_size - filter_size + 1):\n",
    "            grid_filter = get_filter(grid=grid, size=filter_size, row=i, col=j)\n",
    "\n",
    "            if pattern(grid_filter):\n",
    "                result[\"matches\"].append((i, j))\n",
    "                result[\"count\"] += 1\n",
    "\n",
    "    return result"
   ]
  },
  {
   "cell_type": "code",
   "execution_count": null,
   "metadata": {},
   "outputs": [],
   "source": [
    "result = pattern_search(data, 3, matches_pattern)\n",
    "\n",
    "result"
   ]
  },
  {
   "cell_type": "code",
   "execution_count": null,
   "metadata": {},
   "outputs": [],
   "source": [
    "if not use_sample_data and part == 'b':\n",
    "    submit(answer=result['count'], part='b', day=day, year=year, reopen=True)"
   ]
  }
 ],
 "metadata": {
  "kernelspec": {
   "display_name": ".venv",
   "language": "python",
   "name": "python3"
  },
  "language_info": {
   "codemirror_mode": {
    "name": "ipython",
    "version": 3
   },
   "file_extension": ".py",
   "mimetype": "text/x-python",
   "name": "python",
   "nbconvert_exporter": "python",
   "pygments_lexer": "ipython3",
   "version": "3.13.0"
  }
 },
 "nbformat": 4,
 "nbformat_minor": 2
}
