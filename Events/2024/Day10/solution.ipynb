{
 "cells": [
  {
   "cell_type": "markdown",
   "metadata": {},
   "source": [
    "# Advent of Code 2024 Day 10 "
   ]
  },
  {
   "cell_type": "markdown",
   "metadata": {},
   "source": [
    "### Setup"
   ]
  },
  {
   "cell_type": "code",
   "execution_count": null,
   "metadata": {},
   "outputs": [],
   "source": [
    "from aocd import get_data, submit\n",
    "\n",
    "day = 10\n",
    "year = 2024\n"
   ]
  },
  {
   "cell_type": "code",
   "execution_count": null,
   "metadata": {},
   "outputs": [],
   "source": [
    "with open('example.txt', 'r') as file:\n",
    "    raw_sample_data = \"\".join(file.readlines())\n",
    "\n",
    "raw_sample_data[:100]"
   ]
  },
  {
   "cell_type": "code",
   "execution_count": null,
   "metadata": {},
   "outputs": [],
   "source": [
    "raw_test_data = get_data(day=day, year=year)\n",
    "\n",
    "raw_test_data[:]"
   ]
  },
  {
   "cell_type": "markdown",
   "metadata": {},
   "source": [
    "##### Data Parsing"
   ]
  },
  {
   "cell_type": "code",
   "execution_count": null,
   "metadata": {},
   "outputs": [],
   "source": [
    "import numpy as np\n",
    "\n",
    "def parse_data(raw_data:str):\n",
    "    return np.array([ [int(x) if x != '.' else -1 for x in row] for row in raw_data.split() ])\n",
    "\n",
    "sample_data = parse_data(raw_sample_data)\n",
    "test_data = parse_data(raw_test_data)\n",
    "\n",
    "sample_data"
   ]
  },
  {
   "cell_type": "markdown",
   "metadata": {},
   "source": [
    "### Part One!"
   ]
  },
  {
   "cell_type": "code",
   "execution_count": null,
   "metadata": {},
   "outputs": [],
   "source": [
    "use_sample_data = False\n",
    "part = 'a'"
   ]
  },
  {
   "cell_type": "code",
   "execution_count": null,
   "metadata": {},
   "outputs": [],
   "source": [
    "data = sample_data if use_sample_data else test_data\n",
    "\n",
    "data"
   ]
  },
  {
   "cell_type": "code",
   "execution_count": null,
   "metadata": {},
   "outputs": [],
   "source": [
    "from typing import List, Tuple, Dict, Literal\n",
    "\n",
    "Map = np.ndarray"
   ]
  },
  {
   "cell_type": "code",
   "execution_count": null,
   "metadata": {},
   "outputs": [],
   "source": [
    "def get_trailheads(map: Map):\n",
    "    trailheads = []\n",
    "\n",
    "    for i in range(len(map)):\n",
    "        for j in range(len(map[i])):\n",
    "            if map[i][j] == 0:\n",
    "                trailheads.append((i, j))\n",
    "\n",
    "    return trailheads"
   ]
  },
  {
   "cell_type": "code",
   "execution_count": null,
   "metadata": {},
   "outputs": [],
   "source": [
    "def get_neighbor_indices(position):\n",
    "    i, j = position\n",
    "\n",
    "    return [\n",
    "        (i + 1, j),\n",
    "        (i - 1, j),\n",
    "        (i, j + 1),\n",
    "        (i, j - 1)\n",
    "    ]"
   ]
  },
  {
   "cell_type": "code",
   "execution_count": null,
   "metadata": {},
   "outputs": [],
   "source": [
    "import heapq\n",
    "\n",
    "def construct_trail(map:Map, trailhead:Tuple[int, int]):\n",
    "    map = map.copy()\n",
    "    trail = {\n",
    "        'unique_paths': [],\n",
    "        'summits': set([]),\n",
    "    }\n",
    "    max_row = len(map) - 1 \n",
    "    max_col = len(map[0]) - 1 \n",
    "\n",
    "    get_path_priority = lambda x: len(x) - 9\n",
    "\n",
    "    queue = []\n",
    "    heapq.heappush(queue, (get_path_priority(trailhead), tuple([trailhead])))\n",
    "\n",
    "    while len(queue) > 0:\n",
    "        _, path = heapq.heappop(queue)\n",
    "        last_node = path[-1]\n",
    "        neighbors = get_neighbor_indices(last_node)\n",
    "\n",
    "        for next_node in neighbors:\n",
    "            if next_node[0] > max_row or next_node[0] < 0 or next_node[1] > max_col or next_node[1] < 0:\n",
    "                continue\n",
    "\n",
    "            if map[next_node] - map[last_node] == 1:\n",
    "                new_path = tuple(path + tuple([next_node]))\n",
    "                if map[next_node] == 9:\n",
    "                    trail['unique_paths'].append(new_path)\n",
    "                    trail['summits'].add(next_node)\n",
    "\n",
    "                else:\n",
    "                    heapq.heappush(queue, (get_path_priority(new_path), new_path))\n",
    "    \n",
    "    return trail\n"
   ]
  },
  {
   "cell_type": "code",
   "execution_count": null,
   "metadata": {},
   "outputs": [],
   "source": [
    "def construct_trails(map: Map, trailheads: List[Tuple[int, int]]):\n",
    "    trails = []\n",
    "\n",
    "    trails = []\n",
    "    for trailhead in trailheads:\n",
    "        trail = construct_trail(map, trailhead)\n",
    "\n",
    "        if len(trail) > 0: \n",
    "            trails.append(trail)\n",
    "        \n",
    "    return trails"
   ]
  },
  {
   "cell_type": "code",
   "execution_count": null,
   "metadata": {},
   "outputs": [],
   "source": [
    "def rate_trail_by_summits(map:Map, trail: List[Tuple[int, int]], target=9):\n",
    "    return sum([ 1 for count in trail['summits'] ])"
   ]
  },
  {
   "cell_type": "code",
   "execution_count": null,
   "metadata": {},
   "outputs": [],
   "source": [
    "trailheads = get_trailheads(data)\n",
    "\n",
    "trails = construct_trails(data, trailheads)\n",
    "\n",
    "ratings = [ rate_trail_by_summits(data, trail) for trail in trails ]\n",
    "\n",
    "part_a_answer = sum(ratings)\n",
    "part_a_answer"
   ]
  },
  {
   "cell_type": "code",
   "execution_count": null,
   "metadata": {},
   "outputs": [],
   "source": [
    "if not use_sample_data and part == 'a':\n",
    "    submit(answer=part_a_answer, part='a', day=day, year=year, reopen=True)"
   ]
  },
  {
   "cell_type": "markdown",
   "metadata": {},
   "source": [
    "### Part Two!"
   ]
  },
  {
   "cell_type": "code",
   "execution_count": null,
   "metadata": {},
   "outputs": [],
   "source": [
    "use_sample_data = False\n",
    "part='b'"
   ]
  },
  {
   "cell_type": "code",
   "execution_count": null,
   "metadata": {},
   "outputs": [],
   "source": [
    "data = sample_data if use_sample_data else test_data\n",
    "\n",
    "data"
   ]
  },
  {
   "cell_type": "code",
   "execution_count": null,
   "metadata": {},
   "outputs": [],
   "source": [
    "def rate_trail_by_unique_paths(map:Map, trail):\n",
    "    return sum([ 1 for path in trail['unique_paths']])"
   ]
  },
  {
   "cell_type": "code",
   "execution_count": null,
   "metadata": {},
   "outputs": [],
   "source": [
    "trailheads = get_trailheads(data)\n",
    "\n",
    "trails = construct_trails(data, trailheads)\n",
    "\n",
    "ratings = [ rate_trail_by_unique_paths(data, trail) for trail in trails ]\n",
    "\n",
    "part_b_answer = sum(ratings)\n",
    "part_b_answer"
   ]
  },
  {
   "cell_type": "code",
   "execution_count": null,
   "metadata": {},
   "outputs": [],
   "source": [
    "if not use_sample_data and part == 'b':\n",
    "    submit(answer=part_b_answer, part='b', day=day, year=year, reopen=True)"
   ]
  },
  {
   "cell_type": "code",
   "execution_count": null,
   "metadata": {},
   "outputs": [],
   "source": []
  }
 ],
 "metadata": {
  "kernelspec": {
   "display_name": ".venv",
   "language": "python",
   "name": "python3"
  },
  "language_info": {
   "codemirror_mode": {
    "name": "ipython",
    "version": 3
   },
   "file_extension": ".py",
   "mimetype": "text/x-python",
   "name": "python",
   "nbconvert_exporter": "python",
   "pygments_lexer": "ipython3",
   "version": "3.13.1"
  }
 },
 "nbformat": 4,
 "nbformat_minor": 2
}
