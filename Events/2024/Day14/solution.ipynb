{
 "cells": [
  {
   "cell_type": "markdown",
   "metadata": {},
   "source": [
    "# Advent of Code 2024 Day 14 "
   ]
  },
  {
   "cell_type": "markdown",
   "metadata": {},
   "source": [
    "### Setup"
   ]
  },
  {
   "cell_type": "code",
   "execution_count": 1,
   "metadata": {},
   "outputs": [],
   "source": [
    "from aocd import get_data, submit\n",
    "\n",
    "day = 14\n",
    "year = 2024\n"
   ]
  },
  {
   "cell_type": "code",
   "execution_count": null,
   "metadata": {},
   "outputs": [],
   "source": [
    "with open('example.txt', 'r') as file:\n",
    "    raw_sample_data = \"\".join(file.readlines())\n",
    "\n",
    "raw_sample_data[:100]"
   ]
  },
  {
   "cell_type": "code",
   "execution_count": null,
   "metadata": {},
   "outputs": [],
   "source": [
    "raw_test_data = get_data(day=day, year=year)\n",
    "\n",
    "raw_test_data[:]"
   ]
  },
  {
   "cell_type": "markdown",
   "metadata": {},
   "source": [
    "##### Data Parsing"
   ]
  },
  {
   "cell_type": "code",
   "execution_count": null,
   "metadata": {},
   "outputs": [],
   "source": [
    "import numpy as np\n",
    "\n",
    "def parse_data(raw_data:str):\n",
    "    lines = raw_data.split('\\n')\n",
    "\n",
    "    robots = []\n",
    "    for line in lines:\n",
    "        pos_data, velo_data, *_ = line.split(' ')\n",
    "        pos = [(int(y), int(x)) for x, y in [pos_data[2:].strip().split(',')]][0]\n",
    "        velo = [(int(y), int(x)) for x, y in [velo_data[2:].strip().split(',')]][0]\n",
    "\n",
    "        robots.append({'position': np.array(pos), 'velocity': np.array(velo)})\n",
    "\n",
    "    return robots\n",
    "        \n",
    "\n",
    "sample_data = parse_data(raw_sample_data)\n",
    "test_data = parse_data(raw_test_data)\n",
    "\n",
    "sample_data"
   ]
  },
  {
   "cell_type": "markdown",
   "metadata": {},
   "source": [
    "### Part One!"
   ]
  },
  {
   "cell_type": "code",
   "execution_count": 5,
   "metadata": {},
   "outputs": [],
   "source": [
    "use_sample_data = False\n",
    "part = 'a'"
   ]
  },
  {
   "cell_type": "code",
   "execution_count": null,
   "metadata": {},
   "outputs": [],
   "source": [
    "data = sample_data if use_sample_data else test_data\n",
    "\n",
    "data"
   ]
  },
  {
   "cell_type": "code",
   "execution_count": 7,
   "metadata": {},
   "outputs": [],
   "source": [
    "def generate_puzzle_map(row_size, col_size, default_value=0):\n",
    "    return np.ones((row_size, col_size), dtype=int) * default_value"
   ]
  },
  {
   "cell_type": "code",
   "execution_count": 8,
   "metadata": {},
   "outputs": [],
   "source": [
    "def get_next_robot_position(current_position, velocity, max_row, max_col):\n",
    "    next_pos = current_position + velocity\n",
    "\n",
    "    # wrap around\n",
    "    if next_pos[0] < 0:\n",
    "        next_pos[0] = max_row - abs(next_pos[0])\n",
    "    \n",
    "    elif next_pos[0] >= max_row:\n",
    "        next_pos[0] = next_pos[0] - max_row\n",
    "    \n",
    "    if next_pos[1] < 0:\n",
    "        next_pos[1] = max_col - abs(next_pos[1])\n",
    "\n",
    "    elif next_pos[1] >= max_col:\n",
    "        next_pos[1] = next_pos[1] - max_col\n",
    "    \n",
    "    return next_pos"
   ]
  },
  {
   "cell_type": "code",
   "execution_count": 9,
   "metadata": {},
   "outputs": [],
   "source": [
    "def simulate(puzzle, robots, seconds=100):\n",
    "    for _ in range(seconds):\n",
    "        for robot in robots:\n",
    "            robot['position'] = get_next_robot_position(robot['position'], robot['velocity'], puzzle.shape[0], puzzle.shape[1])\n",
    "        \n",
    "    return robots"
   ]
  },
  {
   "cell_type": "code",
   "execution_count": 10,
   "metadata": {},
   "outputs": [],
   "source": [
    "def plot_robots(puzzle, robots):\n",
    "    puzzle = puzzle.copy()\n",
    "    for robot in robots:\n",
    "        puzzle[robot['position'][0], robot['position'][1]] += 1\n",
    "    \n",
    "    return puzzle"
   ]
  },
  {
   "cell_type": "code",
   "execution_count": 11,
   "metadata": {},
   "outputs": [],
   "source": [
    "def get_puzzle_quadrants(puzzle:np.ndarray):\n",
    "    puzzle = puzzle.copy()\n",
    "    row_size, col_size = puzzle.shape\n",
    "\n",
    "    # drop middle vertical and horizontal if not even \n",
    "    if row_size % 2 != 0:\n",
    "        puzzle = np.delete(puzzle, row_size // 2, axis=0)\n",
    "        row_size -= 1\n",
    "    \n",
    "    if col_size % 2 != 0:\n",
    "        puzzle = np.delete(puzzle, col_size // 2, axis=1)\n",
    "        col_size -= 1\n",
    "    \n",
    "    # split into quadrants\n",
    "    top_left = puzzle[:row_size//2, :col_size//2]\n",
    "    top_right = puzzle[:row_size//2, col_size//2:]\n",
    "    bottom_left = puzzle[row_size//2:, :col_size//2]\n",
    "    bottom_right = puzzle[row_size//2:, col_size//2:]\n",
    "\n",
    "    return {\n",
    "        'top_left': top_left,\n",
    "        'top_right': top_right,\n",
    "        'bottom_left': bottom_left,\n",
    "        'bottom_right': bottom_right\n",
    "    }\n"
   ]
  },
  {
   "cell_type": "code",
   "execution_count": 12,
   "metadata": {},
   "outputs": [],
   "source": [
    "def calculate_safety_score(puzzle:np.ndarray):\n",
    "    quadrants = get_puzzle_quadrants(puzzle)\n",
    "\n",
    "    quad_sums = []\n",
    "    for _, quad in quadrants.items():\n",
    "        quad_sums.append(quad.sum())\n",
    "    \n",
    "    # multiply all quad_sums together \n",
    "    return np.prod(quad_sums)"
   ]
  },
  {
   "cell_type": "code",
   "execution_count": null,
   "metadata": {},
   "outputs": [],
   "source": [
    "data_copy = [ {'position': x['position'], 'velocity': x['velocity']} for x in data ]\n",
    "puzzle_shape = (103, 101) if not use_sample_data else (7, 11)\n",
    "puzzle_map = generate_puzzle_map(*puzzle_shape)\n",
    "\n",
    "robots = simulate(puzzle_map, data_copy, seconds=100)\n",
    "plotted_puzzle = plot_robots(puzzle_map, robots)\n",
    "\n",
    "part_a_answer = calculate_safety_score(plotted_puzzle)\n",
    "part_a_answer, puzzle_shape"
   ]
  },
  {
   "cell_type": "code",
   "execution_count": null,
   "metadata": {},
   "outputs": [],
   "source": [
    "if not use_sample_data and part == 'a':\n",
    "    submit(answer=part_a_answer, part='a', day=day, year=year, reopen=True)"
   ]
  },
  {
   "cell_type": "markdown",
   "metadata": {},
   "source": [
    "### Part Two!"
   ]
  },
  {
   "cell_type": "code",
   "execution_count": 15,
   "metadata": {},
   "outputs": [],
   "source": [
    "use_sample_data = False\n",
    "part='b'"
   ]
  },
  {
   "cell_type": "code",
   "execution_count": 16,
   "metadata": {},
   "outputs": [],
   "source": [
    "data = sample_data if use_sample_data else test_data"
   ]
  },
  {
   "cell_type": "code",
   "execution_count": null,
   "metadata": {},
   "outputs": [],
   "source": [
    "data_copy = [ {'position': x['position'], 'velocity': x['velocity']} for x in data ]\n",
    "puzzle_shape = (103, 101)\n",
    "puzzle_map = generate_puzzle_map(*puzzle_shape)\n",
    "\n",
    "with open('part_2.txt', 'w') as fp:    \n",
    "    np.set_printoptions(threshold=np.inf, linewidth=np.inf)\n",
    "    for i in range(100_000):\n",
    "        robots = simulate(puzzle_map, data_copy, seconds=1)\n",
    "        plotted_puzzle = plot_robots(puzzle_map, robots)\n",
    "\n",
    "        if np.max(plotted_puzzle) == 1:\n",
    "            part_b_answer = i + 1 # add 1 to account for 0 indexing\n",
    "            fp.write(f'{part_b_answer}\\n\\n')\n",
    "            fp.write(f'{plotted_puzzle}\\n\\n')\n",
    "            break\n",
    "\n",
    "part_b_answer"
   ]
  },
  {
   "cell_type": "code",
   "execution_count": null,
   "metadata": {},
   "outputs": [],
   "source": [
    "if not use_sample_data and part == 'b':\n",
    "    submit(answer=part_b_answer, part='b', day=day, year=year, reopen=True)"
   ]
  },
  {
   "cell_type": "code",
   "execution_count": null,
   "metadata": {},
   "outputs": [],
   "source": []
  }
 ],
 "metadata": {
  "kernelspec": {
   "display_name": ".venv",
   "language": "python",
   "name": "python3"
  },
  "language_info": {
   "codemirror_mode": {
    "name": "ipython",
    "version": 3
   },
   "file_extension": ".py",
   "mimetype": "text/x-python",
   "name": "python",
   "nbconvert_exporter": "python",
   "pygments_lexer": "ipython3",
   "version": "3.13.1"
  }
 },
 "nbformat": 4,
 "nbformat_minor": 2
}
