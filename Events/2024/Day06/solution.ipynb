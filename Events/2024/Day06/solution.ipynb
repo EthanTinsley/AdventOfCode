{
 "cells": [
  {
   "cell_type": "markdown",
   "metadata": {},
   "source": [
    "# Advent of Code 2024 Day 6 "
   ]
  },
  {
   "cell_type": "markdown",
   "metadata": {},
   "source": [
    "### Setup\n",
    "\n",
    "First we need to instantiate some control variables and read in our example and testing data."
   ]
  },
  {
   "cell_type": "code",
   "execution_count": null,
   "metadata": {},
   "outputs": [],
   "source": [
    "from aocd import get_data, submit\n",
    "\n",
    "day = 6\n",
    "year = 2024\n"
   ]
  },
  {
   "cell_type": "code",
   "execution_count": null,
   "metadata": {},
   "outputs": [],
   "source": [
    "with open('example.txt', 'r') as file:\n",
    "    raw_sample_data = \"\".join(file.readlines())\n",
    "\n",
    "raw_sample_data[:100]"
   ]
  },
  {
   "cell_type": "code",
   "execution_count": null,
   "metadata": {},
   "outputs": [],
   "source": [
    "raw_test_data = get_data(day=day, year=year)\n",
    "\n",
    "raw_test_data[:]"
   ]
  },
  {
   "cell_type": "markdown",
   "metadata": {},
   "source": [
    "##### Data Parsing\n",
    "\n",
    "Both the test and sample data will be stored as a string. The string is unique to the given problem so we will need to implement parse_data in order to store it in a data structure that is useful!"
   ]
  },
  {
   "cell_type": "code",
   "execution_count": null,
   "metadata": {},
   "outputs": [],
   "source": [
    "def parse_data(raw_data):\n",
    "    return raw_data.split('\\n') # you should parse data here\n",
    "\n",
    "sample_data = parse_data(raw_sample_data)\n",
    "test_data = parse_data(raw_test_data)"
   ]
  },
  {
   "cell_type": "markdown",
   "metadata": {},
   "source": [
    "### Part One!"
   ]
  },
  {
   "cell_type": "code",
   "execution_count": null,
   "metadata": {},
   "outputs": [],
   "source": [
    "use_sample_data = True\n",
    "part = 'a'"
   ]
  },
  {
   "cell_type": "code",
   "execution_count": null,
   "metadata": {},
   "outputs": [],
   "source": [
    "data = sample_data if use_sample_data else test_data"
   ]
  },
  {
   "cell_type": "code",
   "execution_count": null,
   "metadata": {},
   "outputs": [],
   "source": [
    "def get_col(grid:list[list[str]], i:int):\n",
    "    return [ row[i] for row in grid ]\n",
    "\n",
    "def get_cols(grid: list[list[str]]):\n",
    "    cols = []\n",
    "    for i in range(len(grid)):\n",
    "        cols.append(get_col(grid, i))\n",
    "\n",
    "    return cols"
   ]
  },
  {
   "cell_type": "code",
   "execution_count": null,
   "metadata": {},
   "outputs": [],
   "source": [
    "contains_guard = lambda x: ('<' in x) or ('^' in x) or ('>' in x) or ('V' in x)\n",
    "\n",
    "starting_row = [ i for i, row in enumerate(data) if contains_guard(row) ]\n",
    "starting_col = [ j for j, col in enumerate(get_cols(data)) if contains_guard(col)]\n",
    "\n",
    "start = (starting_row[0], starting_col[0])\n",
    "start_direction = data[start[0]][start[1]]\n",
    "\n",
    "start, start_direction"
   ]
  },
  {
   "cell_type": "code",
   "execution_count": null,
   "metadata": {},
   "outputs": [],
   "source": [
    "def escape_maze(maze:list[list[str]], start:tuple[int, int], start_direction, max_iter=1000):\n",
    "    ans = {'path' : [], 'visited': set([]), 'visited_count': 0, 'iters': 0, 'turns': {}, 'obstacles': set([])}\n",
    "    escaped = False\n",
    "    i = 0\n",
    "    direction = start_direction\n",
    "    row, col = start\n",
    "    max_row, max_col = len(maze) - 1, len(maze[-1]) - 1\n",
    "\n",
    "    while not escaped and i < max_iter:\n",
    "        i += 1\n",
    "        ans['iters'] += 1\n",
    "        ans['path'].append((row, col, i, direction))\n",
    "\n",
    "        if (row, col) not in ans['visited']:\n",
    "            ans['visited'].add((row, col))\n",
    "            ans['visited_count'] += 1\n",
    "\n",
    "        if direction == '<':\n",
    "            next_col = col - 1\n",
    "\n",
    "            # Check for escape\n",
    "            if (next_col < 0):\n",
    "                escaped = True\n",
    "                break\n",
    "\n",
    "            # Check for obstacle \n",
    "            if maze[row][next_col] == '#':\n",
    "                # turn right \n",
    "                direction = '^'\n",
    "                ans['obstacles'].add((row, next_col))\n",
    "                ans['turns'][(row, next_col)] = i if (row, next_col) not in ans['turns'] else ans['turns'][(row, next_col)]\n",
    "\n",
    "            \n",
    "            # otherwise move up \n",
    "            else:\n",
    "                col = next_col\n",
    "\n",
    "        elif direction == '>':\n",
    "            next_col = col + 1\n",
    "\n",
    "            if next_col > max_col:\n",
    "                escaped = True\n",
    "                break\n",
    "\n",
    "            if maze[row][next_col] == '#':\n",
    "                direction = 'V'\n",
    "                ans['obstacles'].add((row, next_col))\n",
    "                ans['turns'][(row, next_col)] = i if (row, next_col) not in ans['turns'] else ans['turns'][(row, next_col)]\n",
    "\n",
    "            else:\n",
    "                col = next_col\n",
    "                \n",
    "        elif direction == 'V':\n",
    "            next_row = row + 1\n",
    "\n",
    "            if (next_row > max_row):\n",
    "                escaped = True\n",
    "                break\n",
    "\n",
    "            if maze[next_row][col] == '#':\n",
    "                # turn right \n",
    "                direction = '<'\n",
    "                ans['obstacles'].add((next_row, col))\n",
    "                ans['turns'][(next_row, col)] = i if (next_row, col) not in ans['turns'] else ans['turns'][(next_row, col)] \n",
    "            \n",
    "            else:\n",
    "                row = next_row\n",
    "                \n",
    "        elif direction == '^':\n",
    "            next_row = row - 1\n",
    "\n",
    "            if next_row < 0:\n",
    "                escaped = True\n",
    "                break\n",
    "\n",
    "            if maze[next_row][col] == '#':\n",
    "                direction = '>'\n",
    "                ans['obstacles'].add((next_row, col))\n",
    "                ans['turns'][(next_row, col)] = i if (next_row, col) not in ans['turns'] else ans['turns'][(next_row, col)] \n",
    "\n",
    "            else:\n",
    "                row = next_row\n",
    "\n",
    "    return ans"
   ]
  },
  {
   "cell_type": "code",
   "execution_count": null,
   "metadata": {},
   "outputs": [],
   "source": [
    "part_a_answer = escape_maze(data, start, start_direction, max_iter=100_000)\n",
    "\n",
    "part_a_answer['visited_count']"
   ]
  },
  {
   "cell_type": "code",
   "execution_count": null,
   "metadata": {},
   "outputs": [],
   "source": [
    "if not use_sample_data and part == 'a':\n",
    "    submit(answer=part_a_answer['visited_count'], part='a', day=day, year=year, reopen=True)"
   ]
  },
  {
   "cell_type": "markdown",
   "metadata": {},
   "source": [
    "### Part Two!"
   ]
  },
  {
   "cell_type": "code",
   "execution_count": null,
   "metadata": {},
   "outputs": [],
   "source": [
    "use_sample_data = False\n",
    "part='b'"
   ]
  },
  {
   "cell_type": "code",
   "execution_count": null,
   "metadata": {},
   "outputs": [],
   "source": [
    "data = sample_data if use_sample_data else test_data"
   ]
  },
  {
   "cell_type": "code",
   "execution_count": null,
   "metadata": {},
   "outputs": [],
   "source": [
    "starting_row = [ i for i, row in enumerate(data) if contains_guard(row) ]\n",
    "starting_col = [ j for j, col in enumerate(get_cols(data)) if contains_guard(col)]\n",
    "\n",
    "start = (starting_row[0], starting_col[0])\n",
    "start_direction = data[start[0]][start[1]]\n",
    "\n",
    "start, start_direction"
   ]
  },
  {
   "cell_type": "code",
   "execution_count": null,
   "metadata": {},
   "outputs": [],
   "source": [
    "def identify_weakspots(maze:list[list[str]], path:list[tuple[int, int, int, str]], obstacles: set[tuple[int, int]], turns: dict[tuple[int, int]: int], **kwargs):\n",
    "    weakspots = set([])\n",
    "    for row_idx, col_idx, i, direction in path:\n",
    "        search_space = []\n",
    "\n",
    "        # get search space\n",
    "        if direction == '^':\n",
    "            search_space = [ (row_idx, i) for i in range(len(maze[row_idx])) if i > col_idx ]\n",
    "        \n",
    "        elif direction == '>':\n",
    "            search_space = [ (i, col_idx) for i in range(len(get_col(maze, col_idx))) if i > row_idx ]\n",
    "\n",
    "        elif direction == 'V':\n",
    "            search_space = [ (row_idx, i) for i in range(len(maze[row_idx])) if i < col_idx ]\n",
    "        \n",
    "        elif direction == '<':\n",
    "            search_space = [ (i, col_idx) for i in range(len(get_col(maze, col_idx))) if i < row_idx ]\n",
    "        \n",
    "        # determine if there is an obstalce in the search space that we have already hit\n",
    "        if any([ i < turns[x] for x in search_space if x in obstacles]):\n",
    "            weakspots.add((row_idx, col_idx))\n",
    "        \n",
    "    return {'weakspots': weakspots, \"count\": len(weakspots)}"
   ]
  },
  {
   "cell_type": "code",
   "execution_count": null,
   "metadata": {},
   "outputs": [],
   "source": [
    "part_b_answer = 0\n",
    "\n",
    "max_iter = 100_000\n",
    "l = 100\n",
    "for i in range(len(data)):\n",
    "    print(f\"Still Running! {len(data) - i} more rows to go!\")\n",
    "    for j in range(len(data[0])):\n",
    "        if data[i][j] == '#' or contains_guard(data[i][j]):\n",
    "            continue\n",
    "        \n",
    "        candidate = [ list(row[:]) for row in data ]\n",
    "        candidate[i][j] = '#'\n",
    "\n",
    "        result = escape_maze(candidate, start=start, start_direction=start_direction, max_iter=max_iter)\n",
    "\n",
    "        if result['iters'] >= max_iter - l:\n",
    "            part_b_answer += 1\n",
    "\n",
    "part_b_answer\n"
   ]
  },
  {
   "cell_type": "code",
   "execution_count": null,
   "metadata": {},
   "outputs": [],
   "source": [
    "if not use_sample_data and part == 'b':\n",
    "    submit(answer=part_b_answer, part='b', day=day, year=year, reopen=True)"
   ]
  }
 ],
 "metadata": {
  "kernelspec": {
   "display_name": ".venv",
   "language": "python",
   "name": "python3"
  },
  "language_info": {
   "codemirror_mode": {
    "name": "ipython",
    "version": 3
   },
   "file_extension": ".py",
   "mimetype": "text/x-python",
   "name": "python",
   "nbconvert_exporter": "python",
   "pygments_lexer": "ipython3",
   "version": "3.13.0"
  }
 },
 "nbformat": 4,
 "nbformat_minor": 2
}
