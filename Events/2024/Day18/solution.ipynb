{
 "cells": [
  {
   "cell_type": "markdown",
   "metadata": {},
   "source": [
    "# Advent of Code 2024 Day 18 "
   ]
  },
  {
   "cell_type": "markdown",
   "metadata": {},
   "source": [
    "### Setup"
   ]
  },
  {
   "cell_type": "code",
   "execution_count": 1,
   "metadata": {},
   "outputs": [],
   "source": [
    "from aocd import get_data, submit\n",
    "\n",
    "day = 18\n",
    "year = 2024\n"
   ]
  },
  {
   "cell_type": "code",
   "execution_count": null,
   "metadata": {},
   "outputs": [],
   "source": [
    "with open('example.txt', 'r') as file:\n",
    "    raw_sample_data = \"\".join(file.readlines())\n",
    "\n",
    "raw_sample_data[:100]"
   ]
  },
  {
   "cell_type": "code",
   "execution_count": null,
   "metadata": {},
   "outputs": [],
   "source": [
    "raw_test_data = get_data(day=day, year=year)\n",
    "\n",
    "raw_test_data[:]"
   ]
  },
  {
   "cell_type": "markdown",
   "metadata": {},
   "source": [
    "##### Data Parsing"
   ]
  },
  {
   "cell_type": "code",
   "execution_count": null,
   "metadata": {},
   "outputs": [],
   "source": [
    "from typing import Tuple\n",
    "import numpy as np\n",
    "\n",
    "def parse_data(raw_data:str, shape:Tuple[int, int]):\n",
    "    lines = raw_data.splitlines()\n",
    "    arr = np.full(shape, '.')\n",
    "    \n",
    "    # note inverted x, y due to x being the distanec from the left edge\n",
    "    bytes_arr = np.array([(int(y), int(x)) for line in lines for x, y in [line.split(',')]])\n",
    "\n",
    "    return {\n",
    "        'memory': arr,\n",
    "        'bytes': bytes_arr\n",
    "    }\n",
    "\n",
    "\n",
    "sample_data = parse_data(raw_sample_data, (7, 7))\n",
    "test_data = parse_data(raw_test_data, (71, 71))\n",
    "\n",
    "sample_data"
   ]
  },
  {
   "cell_type": "markdown",
   "metadata": {},
   "source": [
    "### Part One!"
   ]
  },
  {
   "cell_type": "code",
   "execution_count": 24,
   "metadata": {},
   "outputs": [],
   "source": [
    "use_sample_data = False\n",
    "part = 'a'"
   ]
  },
  {
   "cell_type": "code",
   "execution_count": null,
   "metadata": {},
   "outputs": [],
   "source": [
    "data = sample_data if use_sample_data else test_data\n",
    "\n",
    "data"
   ]
  },
  {
   "cell_type": "code",
   "execution_count": 26,
   "metadata": {},
   "outputs": [],
   "source": [
    "from typing import Literal, Union, List\n",
    "\n",
    "Wall = Literal['#']\n",
    "Open = Literal['.']\n",
    "\n",
    "Tile = Union[Wall, Open]"
   ]
  },
  {
   "cell_type": "code",
   "execution_count": 27,
   "metadata": {},
   "outputs": [],
   "source": [
    "from functools import total_ordering\n",
    "\n",
    "@total_ordering\n",
    "class KeyList(object):\n",
    "    def __init__(self, key, lst:List):\n",
    "        self.key = key\n",
    "        self.val = lst\n",
    "\n",
    "    def __lt__(self, other):\n",
    "        return self.key < other.key\n",
    "\n",
    "    def __eq__(self, other):\n",
    "        return self.key == other.key\n",
    "    \n",
    "    def __iter__(self):\n",
    "        return iter((self.key, self.val))\n",
    "    \n",
    "    def __getitem__(self, idx):\n",
    "        return self.val[idx]\n",
    "    \n",
    "    def __setitem__(self, idx, value):\n",
    "        self.val[idx] = value\n",
    "\n",
    "    def extend(self, key, value:List):\n",
    "        val = self.val[:] + value\n",
    "        return KeyList(key, val)"
   ]
  },
  {
   "cell_type": "code",
   "execution_count": 28,
   "metadata": {},
   "outputs": [],
   "source": [
    "def fill_bytes(memory:np.ndarray, bytes:np.ndarray):\n",
    "    mem = memory.copy()\n",
    "    unique_bytes = np.unique(bytes, axis=0)\n",
    "    \n",
    "    rows = unique_bytes[:, 0]\n",
    "    cols = unique_bytes[:, 1]\n",
    "\n",
    "    mem[rows, cols] = '#'\n",
    "\n",
    "    return mem"
   ]
  },
  {
   "cell_type": "code",
   "execution_count": 29,
   "metadata": {},
   "outputs": [],
   "source": [
    "def get_candidate_positions(array:np.ndarray, pos:np.ndarray):\n",
    "    # move up, down, left, right\n",
    "    moves = np.array([\n",
    "        [-1, 0],\n",
    "        [1, 0],\n",
    "        [0, -1],\n",
    "        [0, 1]\n",
    "    ]) + pos\n",
    "\n",
    "    # validate that none are out of bounds\n",
    "    rows = moves[:, 0]\n",
    "    cols = moves[:, 1]\n",
    "\n",
    "    mask = (rows >= 0) & (rows < array.shape[0]) & (cols >= 0) & (cols < array.shape[1])\n",
    "    moves = moves[mask]\n",
    "\n",
    "    # validate that none are tile blockers (#)\n",
    "    rows = moves[:, 0]\n",
    "    cols = moves[:, 1]\n",
    "\n",
    "    return moves[array[rows, cols] != '#']\n"
   ]
  },
  {
   "cell_type": "code",
   "execution_count": 30,
   "metadata": {},
   "outputs": [],
   "source": [
    "def euclidean_distance(a, b):\n",
    "    return np.sqrt(np.sum((a - b) ** 2))\n",
    "\n",
    "def manhattan_distance(a, b):\n",
    "    return np.sum(np.abs(a - b))\n",
    "\n",
    "def dummy_heuristic(a, b):\n",
    "    return 0"
   ]
  },
  {
   "cell_type": "code",
   "execution_count": 31,
   "metadata": {},
   "outputs": [],
   "source": [
    "def cost(a, b):\n",
    "    return 1"
   ]
  },
  {
   "cell_type": "code",
   "execution_count": 32,
   "metadata": {},
   "outputs": [],
   "source": [
    "import heapq\n",
    "\n",
    "def get_escape_path(array:np.ndarray, start, end, cost_fn=cost, heuristic_fn=dummy_heuristic):\n",
    "    queue = [KeyList(0, [start])]\n",
    "    visited = set()\n",
    "\n",
    "    while queue:\n",
    "        steps, path = heapq.heappop(queue)\n",
    "        pos = path[-1]\n",
    "\n",
    "        if pos[0] == end[0] and pos[1] == end[1]:\n",
    "            return path\n",
    "\n",
    "        if tuple(pos) in visited:\n",
    "            continue\n",
    "\n",
    "        visited.add(tuple(pos))\n",
    "\n",
    "        for candidate in get_candidate_positions(array, pos):\n",
    "            if tuple(candidate) in visited:\n",
    "                continue\n",
    "\n",
    "            new_path = path[:] + [candidate]\n",
    "            new_steps = steps + cost_fn(pos, candidate) + heuristic_fn(candidate, end)\n",
    "            heapq.heappush(queue, KeyList(new_steps, new_path))\n",
    "    \n",
    "    return None"
   ]
  },
  {
   "cell_type": "code",
   "execution_count": 33,
   "metadata": {},
   "outputs": [],
   "source": [
    "def plot_esacpe_path(array:np.ndarray, path):\n",
    "    mem = array.copy()\n",
    "\n",
    "    for pos in path:\n",
    "        mem[pos[0], pos[1]] = 'O'\n",
    "\n",
    "    return mem"
   ]
  },
  {
   "cell_type": "code",
   "execution_count": null,
   "metadata": {},
   "outputs": [],
   "source": [
    "fill_count = 12 if use_sample_data else 1024\n",
    "bytes = data['bytes'][:fill_count]\n",
    "\n",
    "filled_memory = fill_bytes(data['memory'].copy(), bytes.copy())\n",
    "\n",
    "start = np.array([0, 0])\n",
    "end = np.array([ filled_memory.shape[0] - 1, filled_memory.shape[1] - 1])\n",
    "\n",
    "path = get_escape_path(filled_memory, start, end)\n",
    "\n",
    "part_a_answer = len(path) - 1\n",
    "part_a_answer"
   ]
  },
  {
   "cell_type": "code",
   "execution_count": null,
   "metadata": {},
   "outputs": [],
   "source": [
    "if not use_sample_data and part == 'a':\n",
    "    submit(answer=part_a_answer, part='a', day=day, year=year, reopen=True)"
   ]
  },
  {
   "cell_type": "markdown",
   "metadata": {},
   "source": [
    "### Part Two!"
   ]
  },
  {
   "cell_type": "code",
   "execution_count": 65,
   "metadata": {},
   "outputs": [],
   "source": [
    "use_sample_data = False\n",
    "part='b'"
   ]
  },
  {
   "cell_type": "code",
   "execution_count": null,
   "metadata": {},
   "outputs": [],
   "source": [
    "data = sample_data if use_sample_data else test_data\n",
    "\n",
    "len(data['bytes'])"
   ]
  },
  {
   "cell_type": "code",
   "execution_count": null,
   "metadata": {},
   "outputs": [],
   "source": [
    "bytes = data['bytes'].copy()\n",
    "memory = data['memory'].copy()\n",
    "start = np.array([0, 0])\n",
    "end = np.array([ memory.shape[0] - 1, memory.shape[1] - 1])\n",
    "\n",
    "for i in range(len(bytes)):\n",
    "    print(i, bytes[i])\n",
    "    filled_memory = fill_bytes(memory.copy(), bytes[:i + 1])\n",
    "\n",
    "    path = get_escape_path(filled_memory, start, end)\n",
    "\n",
    "    if not path:\n",
    "        part_b_answer = \",\".join([ str(x) for x in bytes[i][::-1] ])\n",
    "        break\n",
    "\n",
    "part_b_answer"
   ]
  },
  {
   "cell_type": "code",
   "execution_count": null,
   "metadata": {},
   "outputs": [],
   "source": [
    "if not use_sample_data and part == 'b':\n",
    "    submit(answer=part_b_answer, part='b', day=day, year=year, reopen=True)"
   ]
  }
 ],
 "metadata": {
  "kernelspec": {
   "display_name": ".venv",
   "language": "python",
   "name": "python3"
  },
  "language_info": {
   "codemirror_mode": {
    "name": "ipython",
    "version": 3
   },
   "file_extension": ".py",
   "mimetype": "text/x-python",
   "name": "python",
   "nbconvert_exporter": "python",
   "pygments_lexer": "ipython3",
   "version": "3.13.1"
  }
 },
 "nbformat": 4,
 "nbformat_minor": 2
}
