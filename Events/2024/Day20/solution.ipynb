{
 "cells": [
  {
   "cell_type": "markdown",
   "metadata": {},
   "source": [
    "# Advent of Code 2024 Day 20 "
   ]
  },
  {
   "cell_type": "markdown",
   "metadata": {},
   "source": [
    "### Setup"
   ]
  },
  {
   "cell_type": "code",
   "execution_count": 68,
   "metadata": {},
   "outputs": [],
   "source": [
    "from aocd import get_data, submit\n",
    "\n",
    "day = 20\n",
    "year = 2024\n"
   ]
  },
  {
   "cell_type": "code",
   "execution_count": null,
   "metadata": {},
   "outputs": [],
   "source": [
    "with open('example.txt', 'r') as file:\n",
    "    raw_sample_data = \"\".join(file.readlines())\n",
    "\n",
    "raw_sample_data[:100]"
   ]
  },
  {
   "cell_type": "code",
   "execution_count": null,
   "metadata": {},
   "outputs": [],
   "source": [
    "raw_test_data = get_data(day=day, year=year)\n",
    "\n",
    "raw_test_data[:]"
   ]
  },
  {
   "cell_type": "markdown",
   "metadata": {},
   "source": [
    "##### Data Parsing"
   ]
  },
  {
   "cell_type": "code",
   "execution_count": null,
   "metadata": {},
   "outputs": [],
   "source": [
    "import numpy as np\n",
    "\n",
    "def parse_data(raw_data):\n",
    "    lines = raw_data.splitlines()\n",
    "    \n",
    "    data = [list(line) for line in lines]\n",
    "    \n",
    "    return np.array(data)\n",
    "\n",
    "sample_data = parse_data(raw_sample_data)\n",
    "test_data = parse_data(raw_test_data)\n",
    "\n",
    "sample_data[0]"
   ]
  },
  {
   "cell_type": "markdown",
   "metadata": {},
   "source": [
    "### Part One!"
   ]
  },
  {
   "cell_type": "code",
   "execution_count": 72,
   "metadata": {},
   "outputs": [],
   "source": [
    "use_sample_data = False\n",
    "part = 'a'"
   ]
  },
  {
   "cell_type": "code",
   "execution_count": 73,
   "metadata": {},
   "outputs": [],
   "source": [
    "data = sample_data if use_sample_data else test_data"
   ]
  },
  {
   "cell_type": "code",
   "execution_count": 74,
   "metadata": {},
   "outputs": [],
   "source": [
    "from typing import Literal, Union\n",
    "\n",
    "Track = Literal['.']\n",
    "Wall = Literal['#']\n",
    "Start = Literal['S']\n",
    "End = Literal['E']\n",
    "\n",
    "Tile = Union[Track, Wall, Start, End]"
   ]
  },
  {
   "cell_type": "code",
   "execution_count": 75,
   "metadata": {},
   "outputs": [],
   "source": [
    "from functools import total_ordering\n",
    "\n",
    "@total_ordering\n",
    "class KeyDict(object):\n",
    "    def __init__(self, key, dct):\n",
    "        self.key = key\n",
    "        self.dct = dct\n",
    "\n",
    "    def __lt__(self, other):\n",
    "        return self.key < other.key\n",
    "\n",
    "    def __eq__(self, other):\n",
    "        return self.key == other.key\n",
    "\n",
    "    def __repr__(self):\n",
    "        return '{0.__class__.__name__}(key={0.key}, dct={0.dct})'.format(self)\n",
    "    \n",
    "    def __iter__(self):\n",
    "        return iter((self.key, self.dct))\n",
    "    \n",
    "    def __getitem__(self, key):\n",
    "        return self.dct[key]\n",
    "    \n",
    "    def __setitem__(self, key, value):\n",
    "        self.dct[key] = value"
   ]
  },
  {
   "cell_type": "code",
   "execution_count": 76,
   "metadata": {},
   "outputs": [],
   "source": [
    "def get_candidate_positions(arr:np.ndarray, pos:np.ndarray, remove_walls:bool=True):\n",
    "    directions = [\n",
    "        [0, 1],\n",
    "        [0, -1],\n",
    "        [1, 0],\n",
    "        [-1, 0]\n",
    "    ]\n",
    "    \n",
    "    for dir in directions:\n",
    "        candidate_pos = pos + dir\n",
    "        if remove_walls and arr[tuple(candidate_pos)] == '#':\n",
    "            continue\n",
    "        elif candidate_pos[0] < 0 or candidate_pos[1] < 0:\n",
    "            continue\n",
    "        elif candidate_pos[0] >= arr.shape[0] or candidate_pos[1] >= arr.shape[1]:\n",
    "            continue\n",
    "        \n",
    "        yield np.array(candidate_pos)"
   ]
  },
  {
   "cell_type": "code",
   "execution_count": 77,
   "metadata": {},
   "outputs": [],
   "source": [
    "def euclidean_distance(a:np.ndarray, b:np.ndarray):\n",
    "    return np.sqrt(np.sum((a - b)**2))\n",
    "\n",
    "def manhattan_distance(a:np.ndarray, b:np.ndarray):\n",
    "    return np.sum(np.abs(a - b))\n",
    "\n",
    "def dummy_heuristic(a:np.ndarray, b:np.ndarray):\n",
    "    return 0"
   ]
  },
  {
   "cell_type": "code",
   "execution_count": 78,
   "metadata": {},
   "outputs": [],
   "source": [
    "def cost (arr:np.ndarray, a:np.ndarray, b:np.ndarray):\n",
    "    return 1"
   ]
  },
  {
   "cell_type": "code",
   "execution_count": 79,
   "metadata": {},
   "outputs": [],
   "source": [
    "import heapq\n",
    "\n",
    "def astar(arr:np.ndarray, start:np.ndarray, end:np.ndarray, heuristic_fn = manhattan_distance, cost_fn = cost):\n",
    "    queue = [KeyDict(0, { 'path': [start] })]\n",
    "    visited = set()\n",
    "    \n",
    "    while queue:\n",
    "        score, current = heapq.heappop(queue)\n",
    "        current_pos = current['path'][-1]\n",
    "        current_path = current['path']\n",
    "        \n",
    "        if current_pos[0] == end[0] and current_pos[1] == end[1]:\n",
    "            return current_path\n",
    "        \n",
    "        if tuple(current_pos) in visited:\n",
    "            continue\n",
    "        \n",
    "        visited.add(tuple(current_pos))\n",
    "        \n",
    "        for candidate_pos in get_candidate_positions(arr, current_pos):\n",
    "            candidate_path = current_path[:] + [ candidate_pos ]\n",
    "            candidate_cost = score + cost_fn(arr, current_pos, candidate_pos) + heuristic_fn(candidate_pos, end)\n",
    "            \n",
    "            heapq.heappush(queue, KeyDict(candidate_cost, { 'path': candidate_path }))"
   ]
  },
  {
   "cell_type": "code",
   "execution_count": null,
   "metadata": {},
   "outputs": [],
   "source": [
    "start = np.argwhere(data == 'S')[0]\n",
    "end = np.argwhere(data == 'E')[0]\n",
    "\n",
    "baseline_path = astar(data, start, end)\n",
    "baseline_node_distance = { tuple(node): (len(baseline_path) - 1) - i for i, node in enumerate(baseline_path) }\n",
    "\n",
    "baseline_data = {\n",
    "    'path': baseline_path,\n",
    "    'node_distance': baseline_node_distance\n",
    "}\n",
    "\n",
    "baseline_data"
   ]
  },
  {
   "cell_type": "code",
   "execution_count": null,
   "metadata": {},
   "outputs": [],
   "source": [
    "one_step_directions = np.array([\n",
    "    [0, 1],\n",
    "    [1, 0],\n",
    "    [0, -1],\n",
    "    [-1, 0]\n",
    "])\n",
    "\n",
    "two_step_directions = np.array([\n",
    "    [0, 2],\n",
    "    [2, 0],\n",
    "    [0, -2],\n",
    "    [-2, 0]\n",
    "])\n",
    "\n",
    "path = baseline_data['path'].copy()\n",
    "speedups = {}\n",
    "for idx in path:\n",
    "    one_steps = one_step_directions + idx\n",
    "    \n",
    "    rows = one_steps[:, 0]\n",
    "    cols = one_steps[:, 1]\n",
    "    \n",
    "    mask = data[rows, cols] == '#'\n",
    "    two_steps = two_step_directions[mask] + idx\n",
    "\n",
    "    for next_idx in [ i for i in two_steps if tuple(i) in baseline_data['node_distance']]:\n",
    "        original_speed = baseline_data['node_distance'][tuple(idx)]\n",
    "        new_speed = baseline_data['node_distance'][tuple(next_idx)] + 2 # +2 to account for the two steps\n",
    "        \n",
    "        speedup = original_speed - new_speed\n",
    "        \n",
    "        if speedup >= 0:\n",
    "            speedups.setdefault(speedup, 0)\n",
    "            speedups[speedup] += 1\n",
    "    \n",
    "speedups"
   ]
  },
  {
   "cell_type": "code",
   "execution_count": null,
   "metadata": {},
   "outputs": [],
   "source": [
    "target = 100\n",
    "\n",
    "part_a_answer = sum([ speedups[key] for key in speedups.keys() if key >= target ])\n",
    "part_a_answer"
   ]
  },
  {
   "cell_type": "code",
   "execution_count": null,
   "metadata": {},
   "outputs": [],
   "source": [
    "if not use_sample_data and part == 'a':\n",
    "    submit(answer=part_a_answer, part='a', day=day, year=year, reopen=True)"
   ]
  },
  {
   "cell_type": "markdown",
   "metadata": {},
   "source": [
    "### Part Two!"
   ]
  },
  {
   "cell_type": "code",
   "execution_count": 84,
   "metadata": {},
   "outputs": [],
   "source": [
    "use_sample_data = False\n",
    "part='b'"
   ]
  },
  {
   "cell_type": "code",
   "execution_count": 85,
   "metadata": {},
   "outputs": [],
   "source": [
    "data = sample_data if use_sample_data else test_data"
   ]
  },
  {
   "cell_type": "code",
   "execution_count": 86,
   "metadata": {},
   "outputs": [],
   "source": [
    "def get_path_with_cheats(arr:np.ndarray, node_distances:dict, start:np.ndarray, end:np.ndarray, memo:dict, num_cheats:int = 20, visited:set = None):\n",
    "    key = tuple(start)\n",
    "    if visited is None:\n",
    "        visited = set([key])\n",
    "\n",
    "    visited.add(key)\n",
    "\n",
    "    if key in memo:\n",
    "        is_vaild = (memo[key]['available_cheats'] >= num_cheats)\n",
    "        if is_vaild:\n",
    "            return memo[key]['distances']\n",
    "\n",
    "    distances = [np.inf]\n",
    "    for candidate in get_candidate_positions(arr, start, remove_walls=False):\n",
    "        if (tuple(candidate) in visited):\n",
    "            continue\n",
    "\n",
    "        if tuple(candidate) in node_distances:\n",
    "            if arr[key] == '#':\n",
    "                distances.append(node_distances[tuple(candidate)])\n",
    "            continue\n",
    "        \n",
    "        elif candidate[0] == end[0] and candidate[1] == end[1]:\n",
    "            distances += [0]\n",
    "            break\n",
    "\n",
    "        elif arr[tuple(candidate)] == '#' and num_cheats > 0:\n",
    "            speedups = get_path_with_cheats(arr, node_distances, candidate, end, memo, num_cheats=num_cheats - 1, visited=visited)\n",
    "            distances += speedups\n",
    "\n",
    "    memo[key] = {\n",
    "        'distances': distances,\n",
    "        'available_cheats': num_cheats\n",
    "    }\n",
    "    \n",
    "    return memo[key]['distances']"
   ]
  },
  {
   "cell_type": "code",
   "execution_count": 87,
   "metadata": {},
   "outputs": [],
   "source": [
    "def get_path_speedups(arr:np.ndarray, node_distances:dict, path:list, end:np.ndarray, num_cheats:int = 20):\n",
    "    speedups = {}\n",
    "    memo = {}\n",
    "\n",
    "    for node in path:\n",
    "        original_speed = node_distances[tuple(node)]\n",
    "        cheat_speeds = get_path_with_cheats(arr, node_distances, node, end, memo, num_cheats)\n",
    "\n",
    "        for speed in [ s for s in cheat_speeds if s < np.inf]:\n",
    "            speedup = original_speed - speed\n",
    "            speedups.setdefault(speedup, 0)\n",
    "            speedups[speedup] += 1\n",
    "        \n",
    "    return speedups"
   ]
  },
  {
   "cell_type": "code",
   "execution_count": 88,
   "metadata": {},
   "outputs": [],
   "source": [
    "start = np.argwhere(data == 'S')[0]\n",
    "end = np.argwhere(data == 'E')[0]\n",
    "\n",
    "baseline_path = astar(data, start, end)\n",
    "baseline_node_distance = { tuple(node): (len(baseline_path) - 1) - i for i, node in enumerate(baseline_path) }\n",
    "\n",
    "baseline_data = {\n",
    "    'path': baseline_path,\n",
    "    'node_distance': baseline_node_distance\n",
    "}"
   ]
  },
  {
   "cell_type": "code",
   "execution_count": null,
   "metadata": {},
   "outputs": [],
   "source": [
    "path = np.array(baseline_data['path'].copy())\n",
    "node_distances = baseline_data['node_distance'].copy()\n",
    "\n",
    "num_cheats = 20\n",
    "\n",
    "diffs = np.abs(path[:, np.newaxis] - path[np.newaxis, :])\n",
    "distances = np.sum(diffs, axis=-1)\n",
    "\n",
    "rows, cols = np.triu_indices(len(path), k=1)\n",
    "\n",
    "speedups = {} \n",
    "for i, j in zip(rows, cols):\n",
    "    distance = distances[i, j]\n",
    "    if distance <= num_cheats:\n",
    "        original_speed = node_distances[tuple(path[i])]\n",
    "        new_speed = node_distances[tuple(path[j])] + distance\n",
    "\n",
    "        speedup = original_speed - new_speed\n",
    "\n",
    "        if speedup >= 0:\n",
    "            speedups.setdefault(speedup, 0)\n",
    "            speedups[speedup] += 1\n",
    "        \n",
    "\n",
    "target = 100\n",
    "\n",
    "part_b_answer = sum([ speedups[key] for key in speedups.keys() if key >= target ])\n",
    "part_b_answer"
   ]
  },
  {
   "cell_type": "code",
   "execution_count": null,
   "metadata": {},
   "outputs": [],
   "source": [
    "if not use_sample_data and part == 'b':\n",
    "    submit(answer=part_b_answer, part='b', day=day, year=year, reopen=True)"
   ]
  },
  {
   "cell_type": "code",
   "execution_count": null,
   "metadata": {},
   "outputs": [],
   "source": []
  }
 ],
 "metadata": {
  "kernelspec": {
   "display_name": ".venv",
   "language": "python",
   "name": "python3"
  },
  "language_info": {
   "codemirror_mode": {
    "name": "ipython",
    "version": 3
   },
   "file_extension": ".py",
   "mimetype": "text/x-python",
   "name": "python",
   "nbconvert_exporter": "python",
   "pygments_lexer": "ipython3",
   "version": "3.13.1"
  }
 },
 "nbformat": 4,
 "nbformat_minor": 2
}
