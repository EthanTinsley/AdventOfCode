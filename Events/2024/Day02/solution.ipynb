{
 "cells": [
  {
   "cell_type": "markdown",
   "metadata": {},
   "source": [
    "# Advent of Code 2024 Day 2 "
   ]
  },
  {
   "cell_type": "markdown",
   "metadata": {},
   "source": [
    "### Setup\n",
    "\n",
    "First we need to instantiate some control variables and read in our example and testing data."
   ]
  },
  {
   "cell_type": "code",
   "execution_count": null,
   "metadata": {},
   "outputs": [],
   "source": [
    "from aocd import get_data, submit\n",
    "\n",
    "day = 2\n",
    "year = 2024\n"
   ]
  },
  {
   "cell_type": "code",
   "execution_count": null,
   "metadata": {},
   "outputs": [],
   "source": [
    "with open('example.txt', 'r') as file:\n",
    "    raw_sample_data = \"\".join(file.readlines())\n",
    "\n",
    "raw_sample_data[:100]"
   ]
  },
  {
   "cell_type": "code",
   "execution_count": null,
   "metadata": {},
   "outputs": [],
   "source": [
    "raw_test_data = get_data(day=day, year=year)\n",
    "\n",
    "raw_test_data[:]"
   ]
  },
  {
   "cell_type": "markdown",
   "metadata": {},
   "source": [
    "##### Data Parsing\n",
    "\n",
    "Both the test and sample data will be stored as a string. The string is unique to the given problem so we will need to implement parse_data in order to store it in a data structure that is useful!"
   ]
  },
  {
   "cell_type": "code",
   "execution_count": null,
   "metadata": {},
   "outputs": [],
   "source": [
    "def parse_data(raw_data):\n",
    "    data = [ x.split() for x in raw_data.split('\\n') ]\n",
    "    \n",
    "    normalized_data = []\n",
    "    for row in data:\n",
    "        normalized_data.append([ int(x) for x in row])\n",
    "\n",
    "    return normalized_data\n",
    "\n",
    "sample_data = parse_data(raw_sample_data)\n",
    "test_data = parse_data(raw_test_data)"
   ]
  },
  {
   "cell_type": "markdown",
   "metadata": {},
   "source": [
    "### Part One!"
   ]
  },
  {
   "cell_type": "code",
   "execution_count": null,
   "metadata": {},
   "outputs": [],
   "source": [
    "use_sample_data = True\n",
    "part = 'a'"
   ]
  },
  {
   "cell_type": "code",
   "execution_count": null,
   "metadata": {},
   "outputs": [],
   "source": [
    "data = sample_data if use_sample_data else test_data\n",
    "data"
   ]
  },
  {
   "cell_type": "code",
   "execution_count": null,
   "metadata": {},
   "outputs": [],
   "source": [
    "def is_safe(line):\n",
    "    i, j = 0, 1\n",
    "    direction = 0\n",
    "    for _ in range(len(line) - 1):\n",
    "        diff = line[i] - line[j] \n",
    "\n",
    "        #print(f\"{i},{j}  {line[i]}-{line[j]}  {direction}  {diff} {abs(diff)}\")\n",
    "        if ( abs(diff) == 0 or abs(diff) > 3):\n",
    "            return False\n",
    "\n",
    "        if (direction == 0):\n",
    "            direction = -1 if diff < 0 else 1\n",
    "\n",
    "        elif (direction == 1 and diff < 0):\n",
    "            return False\n",
    "\n",
    "        elif (direction == -1 and diff > 0):\n",
    "            return False \n",
    "\n",
    "        i += 1\n",
    "        j += 1\n",
    "    \n",
    "    return True\n"
   ]
  },
  {
   "cell_type": "code",
   "execution_count": null,
   "metadata": {},
   "outputs": [],
   "source": [
    "def is_safe(line, tolerance=0):\n",
    "    i, j = 0, 1\n",
    "    direction = 0\n",
    "\n",
    "    while j <= len(line) - 1:\n",
    "        safe = True\n",
    "        failure = None\n",
    "        diff = line[i] - line[j] \n",
    "\n",
    "        #print(f\"{i},{j}  {line[i]}-{line[j]}  {direction}  {diff} {abs(diff)}\")\n",
    "        if ( abs(diff) == 0 or abs(diff) > 3):\n",
    "            safe = False\n",
    "\n",
    "        if (direction == 0):\n",
    "            direction = -1 if diff < 0 else 1\n",
    "\n",
    "        elif (direction == 1 and diff < 0):\n",
    "            safe = False\n",
    "\n",
    "        elif (direction == -1 and diff > 0):\n",
    "            safe = False\n",
    "\n",
    "        if (not safe):\n",
    "            if ((j - i) > tolerance):\n",
    "                return False\n",
    "\n",
    "            if (j == len(line) - 1) and (i == len(line) - 2) and (tolerance > 0):\n",
    "                return True\n",
    "\n",
    "            nline = line[:i] + line[j:]\n",
    "            mline = line[:i+1] + line[j+1:]\n",
    "            \n",
    "            assert len(nline) == len(line) - tolerance\n",
    "            assert len(mline) == len(line) - tolerance\n",
    "\n",
    "            return is_safe(nline, tolerance=tolerance-1) or is_safe(mline, tolerance=tolerance-1) \n",
    "        \n",
    "        else:\n",
    "            i += 1\n",
    "            j += 1\n",
    "\n",
    "    return True\n"
   ]
  },
  {
   "cell_type": "code",
   "execution_count": null,
   "metadata": {},
   "outputs": [],
   "source": [
    "result = [is_safe(line) for line in data]\n",
    "count = sum(result)\n",
    "\n",
    "count"
   ]
  },
  {
   "cell_type": "code",
   "execution_count": null,
   "metadata": {},
   "outputs": [],
   "source": [
    "if not use_sample_data and part == 'a':\n",
    "    submit(answer=count, part='a', day=day, year=year, reopen=True)"
   ]
  },
  {
   "cell_type": "markdown",
   "metadata": {},
   "source": [
    "### Part Two!"
   ]
  },
  {
   "cell_type": "code",
   "execution_count": null,
   "metadata": {},
   "outputs": [],
   "source": [
    "use_sample_data = True\n",
    "part='b'"
   ]
  },
  {
   "cell_type": "code",
   "execution_count": null,
   "metadata": {},
   "outputs": [],
   "source": [
    "data = sample_data if use_sample_data else test_data"
   ]
  },
  {
   "cell_type": "code",
   "execution_count": null,
   "metadata": {},
   "outputs": [],
   "source": [
    "def is_safe_with_tolerance(line):\n",
    "    if is_safe(line):\n",
    "        return True\n",
    "    \n",
    "    for i in range(len(line)):\n",
    "        candidate = [ x for x in line ]\n",
    "        candidate.pop(i) \n",
    "\n",
    "        if is_safe(candidate):\n",
    "            return True\n",
    "    \n",
    "    return False"
   ]
  },
  {
   "cell_type": "code",
   "execution_count": null,
   "metadata": {},
   "outputs": [],
   "source": [
    "result = [is_safe_with_tolerance(line) for line in data]\n",
    "count = sum(result)\n",
    "\n",
    "count"
   ]
  },
  {
   "cell_type": "code",
   "execution_count": null,
   "metadata": {},
   "outputs": [],
   "source": [
    "if not use_sample_data and part == 'b':\n",
    "    submit(answer=count, part='b', day=day, year=year, reopen=True)"
   ]
  }
 ],
 "metadata": {
  "kernelspec": {
   "display_name": ".venv",
   "language": "python",
   "name": "python3"
  },
  "language_info": {
   "codemirror_mode": {
    "name": "ipython",
    "version": 3
   },
   "file_extension": ".py",
   "mimetype": "text/x-python",
   "name": "python",
   "nbconvert_exporter": "python",
   "pygments_lexer": "ipython3",
   "version": "3.13.0"
  }
 },
 "nbformat": 4,
 "nbformat_minor": 2
}
