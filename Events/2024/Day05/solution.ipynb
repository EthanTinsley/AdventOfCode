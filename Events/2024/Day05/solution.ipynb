{
 "cells": [
  {
   "cell_type": "markdown",
   "metadata": {},
   "source": [
    "# Advent of Code 2024 Day 5 "
   ]
  },
  {
   "cell_type": "markdown",
   "metadata": {},
   "source": [
    "### Setup\n",
    "\n",
    "First we need to instantiate some control variables and read in our example and testing data."
   ]
  },
  {
   "cell_type": "code",
   "execution_count": null,
   "metadata": {},
   "outputs": [],
   "source": [
    "from aocd import get_data, submit\n",
    "\n",
    "day = 5\n",
    "year = 2024\n"
   ]
  },
  {
   "cell_type": "code",
   "execution_count": null,
   "metadata": {},
   "outputs": [],
   "source": [
    "with open('example.txt', 'r') as file:\n",
    "    raw_sample_data = \"\".join(file.readlines())\n",
    "\n",
    "raw_sample_data[:100]"
   ]
  },
  {
   "cell_type": "code",
   "execution_count": null,
   "metadata": {},
   "outputs": [],
   "source": [
    "raw_test_data = get_data(day=day, year=year)\n",
    "\n",
    "raw_test_data[:]"
   ]
  },
  {
   "cell_type": "markdown",
   "metadata": {},
   "source": [
    "##### Data Parsing\n",
    "\n",
    "Both the test and sample data will be stored as a string. The string is unique to the given problem so we will need to implement parse_data in order to store it in a data structure that is useful!"
   ]
  },
  {
   "cell_type": "code",
   "execution_count": null,
   "metadata": {},
   "outputs": [],
   "source": [
    "def parse_data(raw_data):\n",
    "    return raw_data.split() # you should parse data here\n",
    "\n",
    "sample_data = parse_data(raw_sample_data)\n",
    "test_data = parse_data(raw_test_data)"
   ]
  },
  {
   "cell_type": "markdown",
   "metadata": {},
   "source": [
    "### Part One!"
   ]
  },
  {
   "cell_type": "code",
   "execution_count": null,
   "metadata": {},
   "outputs": [],
   "source": [
    "use_sample_data = False\n",
    "part = 'a'"
   ]
  },
  {
   "cell_type": "code",
   "execution_count": null,
   "metadata": {},
   "outputs": [],
   "source": [
    "data = sample_data if use_sample_data else test_data\n",
    "data"
   ]
  },
  {
   "cell_type": "code",
   "execution_count": null,
   "metadata": {},
   "outputs": [],
   "source": [
    "rules = [ x for x in data if \"|\" in x ]\n",
    "\n",
    "rules[0], rules[-1]"
   ]
  },
  {
   "cell_type": "code",
   "execution_count": null,
   "metadata": {},
   "outputs": [],
   "source": [
    "orders = [ x for x in data if \"|\" not in x]\n",
    "\n",
    "orders[0], orders[-1]"
   ]
  },
  {
   "cell_type": "code",
   "execution_count": null,
   "metadata": {},
   "outputs": [],
   "source": [
    "part_a_answer = { \"orders\": [], \"middle_nums\": [], \"count\": 0 }\n",
    "for order in orders:\n",
    "    is_correct = True\n",
    "    for rule in rules:\n",
    "        before, after = rule.split(\"|\")\n",
    "\n",
    "        if (before not in order) or (after not in order):\n",
    "            continue\n",
    "\n",
    "        if order.index(after) < order.index(before):\n",
    "            is_correct = False\n",
    "            break\n",
    "\n",
    "    if is_correct:\n",
    "        part_a_answer['orders'].append(order)\n",
    "        order_list = order.split(',')\n",
    "        middle_num = order_list[(len(order_list) // 2)]\n",
    "\n",
    "        part_a_answer['count'] += int(middle_num)\n",
    "        part_a_answer['middle_nums'].append(middle_num)\n",
    "\n",
    "part_a_answer"
   ]
  },
  {
   "cell_type": "code",
   "execution_count": null,
   "metadata": {},
   "outputs": [],
   "source": [
    "if not use_sample_data and part == 'a':\n",
    "    submit(answer=part_a_answer['count'], part='a', day=day, year=year, reopen=True)"
   ]
  },
  {
   "cell_type": "markdown",
   "metadata": {},
   "source": [
    "### Part Two!"
   ]
  },
  {
   "cell_type": "code",
   "execution_count": null,
   "metadata": {},
   "outputs": [],
   "source": [
    "use_sample_data = False\n",
    "part='b'"
   ]
  },
  {
   "cell_type": "code",
   "execution_count": null,
   "metadata": {},
   "outputs": [],
   "source": [
    "data = sample_data if use_sample_data else test_data"
   ]
  },
  {
   "cell_type": "code",
   "execution_count": null,
   "metadata": {},
   "outputs": [],
   "source": [
    "normalized_rules = []\n",
    "for rule in rules:\n",
    "    x, y = rule.split(\"|\")\n",
    "    normalized_rules.append((int(x), int(y)))\n",
    "\n",
    "normalized_rules"
   ]
  },
  {
   "cell_type": "code",
   "execution_count": null,
   "metadata": {},
   "outputs": [],
   "source": [
    "def is_order_correct(rules:list[tuple[int, int]], order: list[int]) -> bool:\n",
    "    for before, after in rules:\n",
    "        if (before not in order) or (after not in order):\n",
    "            continue\n",
    "\n",
    "        if order.index(after) < order.index(before):\n",
    "            return False\n",
    "        \n",
    "    return True"
   ]
  },
  {
   "cell_type": "code",
   "execution_count": null,
   "metadata": {},
   "outputs": [],
   "source": [
    "def correct_ordering(rules: list[tuple[int, int]], order: list[int]) -> list[int]:\n",
    "    new_order = [x for x in order]\n",
    "    \n",
    "    for _ in range(len(order)):\n",
    "        for before, after in rules:\n",
    "            if (before not in order) or (after not in order):\n",
    "                continue\n",
    "\n",
    "            if new_order.index(before) > new_order.index(after):\n",
    "                new_order.remove(before)\n",
    "                new_order.insert(new_order.index(after), before)\n",
    "    \n",
    "    return new_order\n"
   ]
  },
  {
   "cell_type": "code",
   "execution_count": null,
   "metadata": {},
   "outputs": [],
   "source": [
    "part_b_answer = { \"orders\": [], \"middle_nums\": [], \"count\": 0 }\n",
    "for order in orders:\n",
    "    order = [int(x) for x in order.split(\",\")]\n",
    "    \n",
    "    if not is_order_correct(rules=normalized_rules, order=order):\n",
    "        corrected_order = correct_ordering(rules=normalized_rules, order=order)\n",
    "        part_b_answer['orders'].append(str(corrected_order))\n",
    "        middle_num = corrected_order[(len(corrected_order) // 2)]\n",
    "\n",
    "        part_b_answer['count'] += int(middle_num)\n",
    "        part_b_answer['middle_nums'].append(middle_num)\n",
    "            \n",
    "\n",
    "part_b_answer"
   ]
  },
  {
   "cell_type": "code",
   "execution_count": null,
   "metadata": {},
   "outputs": [],
   "source": [
    "if not use_sample_data and part == 'b':\n",
    "    submit(answer=part_b_answer['count'], part='b', day=day, year=year, reopen=True)"
   ]
  }
 ],
 "metadata": {
  "kernelspec": {
   "display_name": ".venv",
   "language": "python",
   "name": "python3"
  },
  "language_info": {
   "codemirror_mode": {
    "name": "ipython",
    "version": 3
   },
   "file_extension": ".py",
   "mimetype": "text/x-python",
   "name": "python",
   "nbconvert_exporter": "python",
   "pygments_lexer": "ipython3",
   "version": "3.13.0"
  }
 },
 "nbformat": 4,
 "nbformat_minor": 2
}
