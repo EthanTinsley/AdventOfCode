{
 "cells": [
  {
   "cell_type": "markdown",
   "metadata": {},
   "source": [
    "# Advent of Code 2024 Day 13 "
   ]
  },
  {
   "cell_type": "markdown",
   "metadata": {},
   "source": [
    "### Setup"
   ]
  },
  {
   "cell_type": "code",
   "execution_count": 97,
   "metadata": {},
   "outputs": [],
   "source": [
    "from aocd import get_data, submit\n",
    "\n",
    "day = 13\n",
    "year = 2024\n"
   ]
  },
  {
   "cell_type": "code",
   "execution_count": null,
   "metadata": {},
   "outputs": [],
   "source": [
    "with open('example.txt', 'r') as file:\n",
    "    raw_sample_data = \"\".join(file.readlines())\n",
    "\n",
    "raw_sample_data[:100]"
   ]
  },
  {
   "cell_type": "code",
   "execution_count": null,
   "metadata": {},
   "outputs": [],
   "source": [
    "raw_test_data = get_data(day=day, year=year)\n",
    "\n",
    "raw_test_data[:]"
   ]
  },
  {
   "cell_type": "markdown",
   "metadata": {},
   "source": [
    "##### Data Parsing"
   ]
  },
  {
   "cell_type": "code",
   "execution_count": 100,
   "metadata": {},
   "outputs": [],
   "source": [
    "def trim_label(line:str, delimiter:str = ':'):\n",
    "    return line.split(delimiter)[1].strip()"
   ]
  },
  {
   "cell_type": "code",
   "execution_count": 101,
   "metadata": {},
   "outputs": [],
   "source": [
    "def get_coords(line:str, delim:str = ','):\n",
    "    \"\"\"Extracts the x and y coordinates from a string\n",
    "    \n",
    "    Example: 'X+94, Y+34' -> (94, 34)\n",
    "    \"\"\"\n",
    "    coords_raw = [ c.strip() for c in line.split(delim) ]\n",
    "    x, y = int(coords_raw[0][2:]), int(coords_raw[1][2:])\n",
    "\n",
    "    return (x, y)"
   ]
  },
  {
   "cell_type": "code",
   "execution_count": null,
   "metadata": {},
   "outputs": [],
   "source": [
    "def parse_data(raw_data:str):\n",
    "    data = [{}]\n",
    "    \n",
    "    data_idx = 0\n",
    "    for idx, line in enumerate(raw_data.split('\\n')):\n",
    "        if line == '':\n",
    "            continue\n",
    "        \n",
    "        if 'Button A' in line:\n",
    "            data[data_idx]['A'] = get_coords(trim_label(line))\n",
    "            continue\n",
    "\n",
    "        elif 'Button B' in line:\n",
    "            data[data_idx]['B'] = get_coords(trim_label(line))\n",
    "            continue\n",
    "\n",
    "        elif 'Prize' in line:\n",
    "            data[data_idx]['PrizeLocation'] = get_coords(trim_label(line))\n",
    "            data_idx += 1\n",
    "            if idx + 1 < len(raw_data.split('\\n')):\n",
    "                data.append({})\n",
    "            continue\n",
    "\n",
    "    return data\n",
    "\n",
    "\n",
    "sample_data = parse_data(raw_sample_data)\n",
    "test_data = parse_data(raw_test_data)\n",
    "\n",
    "sample_data"
   ]
  },
  {
   "cell_type": "markdown",
   "metadata": {},
   "source": [
    "### Part One!"
   ]
  },
  {
   "cell_type": "code",
   "execution_count": 103,
   "metadata": {},
   "outputs": [],
   "source": [
    "use_sample_data = False\n",
    "part = 'a'"
   ]
  },
  {
   "cell_type": "code",
   "execution_count": null,
   "metadata": {},
   "outputs": [],
   "source": [
    "data = sample_data if use_sample_data else test_data\n",
    "\n",
    "data"
   ]
  },
  {
   "cell_type": "code",
   "execution_count": null,
   "metadata": {},
   "outputs": [],
   "source": [
    "max_iters = 100\n",
    "a_cost, b_cost = 3, 1\n",
    "\n",
    "solutions = []\n",
    "for config in data:\n",
    "    min_tokens = None\n",
    "    for a in range(max_iters):\n",
    "        for b in range(max_iters):\n",
    "            tokens = (a * a_cost) + (b * b_cost)\n",
    "            if min_tokens is not None and tokens > min_tokens:\n",
    "                continue\n",
    "\n",
    "            prize = config['PrizeLocation']\n",
    "            x = a * config['A'][0] + b * config['B'][0]\n",
    "            y = a * config['A'][1] + b * config['B'][1]\n",
    "            \n",
    "            if (x, y) == prize:\n",
    "                min_tokens = tokens if min_tokens is None or tokens < min_tokens else min_tokens\n",
    "    \n",
    "    if min_tokens is not None:\n",
    "        solutions.append(min_tokens)\n",
    "\n",
    "sum(solutions)"
   ]
  },
  {
   "cell_type": "code",
   "execution_count": null,
   "metadata": {},
   "outputs": [],
   "source": [
    "\n",
    "part_a_answer = sum(solutions)\n",
    "part_a_answer"
   ]
  },
  {
   "cell_type": "code",
   "execution_count": null,
   "metadata": {},
   "outputs": [],
   "source": [
    "if not use_sample_data and part == 'a':\n",
    "    submit(answer=part_a_answer, part='a', day=day, year=year, reopen=True)"
   ]
  },
  {
   "cell_type": "markdown",
   "metadata": {},
   "source": [
    "### Part Two!"
   ]
  },
  {
   "cell_type": "code",
   "execution_count": 115,
   "metadata": {},
   "outputs": [],
   "source": [
    "use_sample_data = False\n",
    "part='b'"
   ]
  },
  {
   "cell_type": "code",
   "execution_count": null,
   "metadata": {},
   "outputs": [],
   "source": [
    "def parse_data_part02(raw_data:str):\n",
    "    data = [{}]\n",
    "    boost = 10000000000000\n",
    "    \n",
    "    data_idx = 0\n",
    "    for idx, line in enumerate(raw_data.split('\\n')):\n",
    "        if line == '':\n",
    "            continue\n",
    "        \n",
    "        if 'Button A' in line:\n",
    "            data[data_idx]['A'] = get_coords(trim_label(line))\n",
    "            continue\n",
    "\n",
    "        elif 'Button B' in line:\n",
    "            data[data_idx]['B'] = get_coords(trim_label(line))\n",
    "            continue\n",
    "\n",
    "        elif 'Prize' in line:\n",
    "            x, y = get_coords(trim_label(line))\n",
    "            coords = (x + boost, y + boost)\n",
    "            data[data_idx]['PrizeLocation'] = coords\n",
    "            data_idx += 1\n",
    "            if idx + 1 < len(raw_data.split('\\n')):\n",
    "                data.append({})\n",
    "            continue\n",
    "\n",
    "    return data\n",
    "\n",
    "\n",
    "sample_data = parse_data_part02(raw_sample_data)\n",
    "test_data = parse_data_part02(raw_test_data)\n",
    "\n",
    "sample_data"
   ]
  },
  {
   "cell_type": "code",
   "execution_count": null,
   "metadata": {},
   "outputs": [],
   "source": [
    "data = sample_data if use_sample_data else test_data\n",
    "data[:10]"
   ]
  },
  {
   "cell_type": "code",
   "execution_count": null,
   "metadata": {},
   "outputs": [],
   "source": [
    "x = data[0]\n",
    "x"
   ]
  },
  {
   "cell_type": "code",
   "execution_count": null,
   "metadata": {},
   "outputs": [],
   "source": [
    "from scipy.optimize import linprog\n",
    "import numpy as np\n",
    "\n",
    "a_cost, b_cost = 3, 1\n",
    "\n",
    "solutions = []\n",
    "for config in data:\n",
    "    cost_fn = np.array([a_cost, b_cost])\n",
    "    a_eq = np.array([config['A'], config['B']]).T\n",
    "    b_eq = np.array(config['PrizeLocation'])\n",
    "\n",
    "    result = linprog(cost_fn, A_eq=a_eq, b_eq=b_eq, method=\"highs\")\n",
    "\n",
    "    if result.success:\n",
    "        # need to see if the float solution matches the int solution\n",
    "        a, b = np.round(result.x).astype(int)\n",
    "\n",
    "        x = a * config['A'][0] + b * config['B'][0]\n",
    "        y = a * config['A'][1] + b * config['B'][1]\n",
    "\n",
    "        if (x, y) == tuple(config['PrizeLocation']):\n",
    "            tokens = a * a_cost + b * b_cost\n",
    "            solutions.append(tokens)\n",
    "\n",
    "sum(solutions)"
   ]
  },
  {
   "cell_type": "code",
   "execution_count": null,
   "metadata": {},
   "outputs": [],
   "source": [
    "part_b_answer = sum(solutions)\n",
    "part_b_answer"
   ]
  },
  {
   "cell_type": "code",
   "execution_count": null,
   "metadata": {},
   "outputs": [],
   "source": [
    "if not use_sample_data and part == 'b':\n",
    "    submit(answer=part_b_answer, part='b', day=day, year=year, reopen=True)"
   ]
  },
  {
   "cell_type": "code",
   "execution_count": null,
   "metadata": {},
   "outputs": [],
   "source": []
  }
 ],
 "metadata": {
  "kernelspec": {
   "display_name": ".venv",
   "language": "python",
   "name": "python3"
  },
  "language_info": {
   "codemirror_mode": {
    "name": "ipython",
    "version": 3
   },
   "file_extension": ".py",
   "mimetype": "text/x-python",
   "name": "python",
   "nbconvert_exporter": "python",
   "pygments_lexer": "ipython3",
   "version": "3.13.1"
  }
 },
 "nbformat": 4,
 "nbformat_minor": 2
}
