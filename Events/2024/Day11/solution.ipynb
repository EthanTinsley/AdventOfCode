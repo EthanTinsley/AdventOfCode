{
 "cells": [
  {
   "cell_type": "markdown",
   "metadata": {},
   "source": [
    "# Advent of Code 2024 Day 11 "
   ]
  },
  {
   "cell_type": "markdown",
   "metadata": {},
   "source": [
    "### Setup"
   ]
  },
  {
   "cell_type": "code",
   "execution_count": 2,
   "metadata": {},
   "outputs": [],
   "source": [
    "from aocd import get_data, submit\n",
    "\n",
    "day = 11\n",
    "year = 2024\n"
   ]
  },
  {
   "cell_type": "code",
   "execution_count": null,
   "metadata": {},
   "outputs": [],
   "source": [
    "with open('example.txt', 'r') as file:\n",
    "    raw_sample_data = \"\".join(file.readlines())\n",
    "\n",
    "raw_sample_data[:100]"
   ]
  },
  {
   "cell_type": "code",
   "execution_count": null,
   "metadata": {},
   "outputs": [],
   "source": [
    "raw_test_data = get_data(day=day, year=year)\n",
    "\n",
    "raw_test_data[:]"
   ]
  },
  {
   "cell_type": "markdown",
   "metadata": {},
   "source": [
    "##### Data Parsing"
   ]
  },
  {
   "cell_type": "code",
   "execution_count": null,
   "metadata": {},
   "outputs": [],
   "source": [
    "import numpy as np\n",
    "\n",
    "def parse_data(raw_data:str):\n",
    "    return np.array([ int(x) for x in raw_data.split() ])\n",
    "\n",
    "sample_data = parse_data(raw_sample_data)\n",
    "test_data = parse_data(raw_test_data)\n",
    "\n",
    "sample_data"
   ]
  },
  {
   "cell_type": "markdown",
   "metadata": {},
   "source": [
    "### Part One!"
   ]
  },
  {
   "cell_type": "code",
   "execution_count": 6,
   "metadata": {},
   "outputs": [],
   "source": [
    "use_sample_data = False\n",
    "part = 'a'"
   ]
  },
  {
   "cell_type": "code",
   "execution_count": null,
   "metadata": {},
   "outputs": [],
   "source": [
    "data = sample_data if use_sample_data else test_data\n",
    "\n",
    "data"
   ]
  },
  {
   "cell_type": "code",
   "execution_count": 8,
   "metadata": {},
   "outputs": [],
   "source": [
    "def blink(data: np.ndarray):\n",
    "    result = []\n",
    "    \n",
    "    for x in data:\n",
    "        xstring = str(x)\n",
    "\n",
    "        if x == 0:\n",
    "            result.append(1)\n",
    "\n",
    "        elif x >= 10 and len(xstring) % 2 == 0:\n",
    "            split = len(xstring) // 2\n",
    "            left, right = int(xstring[:split]), int(xstring[split:])\n",
    "            \n",
    "            result += [left, right]\n",
    "        \n",
    "        else:\n",
    "            result.append(x * 2024)\n",
    "    \n",
    "    return np.array(result)\n",
    "        "
   ]
  },
  {
   "cell_type": "code",
   "execution_count": null,
   "metadata": {},
   "outputs": [],
   "source": [
    "output = data.copy()\n",
    "sizes = [output.size]\n",
    "for _ in range(25):\n",
    "    output = blink(output)\n",
    "    sizes.append(output.size)\n",
    "\n",
    "\n",
    "part_a_answer = output.size\n",
    "part_a_answer"
   ]
  },
  {
   "cell_type": "code",
   "execution_count": null,
   "metadata": {},
   "outputs": [],
   "source": [
    "if not use_sample_data and part == 'a':\n",
    "    submit(answer=part_a_answer, part='a', day=day, year=year, reopen=True)"
   ]
  },
  {
   "cell_type": "markdown",
   "metadata": {},
   "source": [
    "### Part Two!"
   ]
  },
  {
   "cell_type": "code",
   "execution_count": 11,
   "metadata": {},
   "outputs": [],
   "source": [
    "use_sample_data = False\n",
    "part='b'"
   ]
  },
  {
   "cell_type": "code",
   "execution_count": 12,
   "metadata": {},
   "outputs": [],
   "source": [
    "data = sample_data if use_sample_data else test_data"
   ]
  },
  {
   "cell_type": "code",
   "execution_count": 13,
   "metadata": {},
   "outputs": [],
   "source": [
    "def blink_optimized(data: np.ndarray):\n",
    "    data_str = data.astype(str)\n",
    "    data_str_len = np.char.str_len(data_str)\n",
    "    \n",
    "    split_mask = np.logical_and(data >= 10, data_str_len % 2 == 0)\n",
    "    split_indices = np.flatnonzero(split_mask)\n",
    "    split_values = data_str[split_indices]\n",
    "    split_offset = np.cumsum(split_mask)\n",
    "    split_indices_norm = split_indices + split_offset[split_indices]\n",
    "\n",
    "    output_size = data.size + np.sum(split_mask)\n",
    "    output = np.zeros(output_size, dtype=int)\n",
    "\n",
    "    for idx, val in zip(split_indices_norm, split_values):\n",
    "        split = len(val) // 2\n",
    "        left, right = int(val[:split]), int(val[split:])\n",
    "        output[idx - 1] = left\n",
    "        output[idx] = right\n",
    "\n",
    "    zero_mask = data == 0\n",
    "    zero_indices = np.flatnonzero(zero_mask)\n",
    "    zero_indices_norm = zero_indices + split_offset[zero_indices]\n",
    "    output[zero_indices_norm] = 1\n",
    "\n",
    "    mul_mask = np.logical_not(np.logical_or(zero_mask, split_mask))\n",
    "    mul_indices = np.flatnonzero(mul_mask)\n",
    "    mul_indices_norm = mul_indices + split_offset[mul_indices]\n",
    "    output[mul_indices_norm] = data[mul_indices] * 2024\n",
    "\n",
    "    return output"
   ]
  },
  {
   "cell_type": "code",
   "execution_count": null,
   "metadata": {},
   "outputs": [],
   "source": [
    "import heapq\n",
    "\n",
    "def project_blink_size(num: np.ndarray, blinks:int, memo:dict = None):\n",
    "    memo = memo if memo is not None else {}\n",
    "    key = (blinks, num)\n",
    "    count = 0\n",
    "    \n",
    "    if blinks == 0:\n",
    "            return 1\n",
    "        \n",
    "    if key in memo:\n",
    "        return memo[key]\n",
    "    \n",
    "    children = blink(np.array([num]))\n",
    "\n",
    "    for child in children:\n",
    "        count += project_blink_size(child, blinks - 1, memo)\n",
    "    \n",
    "    memo[key] = count\n",
    "    return count"
   ]
  },
  {
   "cell_type": "code",
   "execution_count": null,
   "metadata": {},
   "outputs": [],
   "source": [
    "count = 0\n",
    "memo = {}\n",
    "for num in data:\n",
    "    count += project_blink_size(num, 75, memo=memo)\n",
    "\n",
    "part_b_answer = count\n",
    "part_b_answer "
   ]
  },
  {
   "cell_type": "code",
   "execution_count": null,
   "metadata": {},
   "outputs": [],
   "source": [
    "if not use_sample_data and part == 'b':\n",
    "    submit(answer=part_b_answer, part='b', day=day, year=year, reopen=True)"
   ]
  },
  {
   "cell_type": "code",
   "execution_count": null,
   "metadata": {},
   "outputs": [],
   "source": []
  }
 ],
 "metadata": {
  "kernelspec": {
   "display_name": ".venv",
   "language": "python",
   "name": "python3"
  },
  "language_info": {
   "codemirror_mode": {
    "name": "ipython",
    "version": 3
   },
   "file_extension": ".py",
   "mimetype": "text/x-python",
   "name": "python",
   "nbconvert_exporter": "python",
   "pygments_lexer": "ipython3",
   "version": "3.13.1"
  }
 },
 "nbformat": 4,
 "nbformat_minor": 2
}
