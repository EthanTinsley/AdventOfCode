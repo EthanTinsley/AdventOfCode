{
 "cells": [
  {
   "cell_type": "markdown",
   "metadata": {},
   "source": [
    "# Advent of Code 2024 Day 17 "
   ]
  },
  {
   "cell_type": "markdown",
   "metadata": {},
   "source": [
    "### Setup"
   ]
  },
  {
   "cell_type": "code",
   "execution_count": 3,
   "metadata": {},
   "outputs": [],
   "source": [
    "from aocd import get_data, submit\n",
    "\n",
    "day = 17\n",
    "year = 2024\n"
   ]
  },
  {
   "cell_type": "code",
   "execution_count": null,
   "metadata": {},
   "outputs": [],
   "source": [
    "with open('example.txt', 'r') as file:\n",
    "    raw_sample_data = \"\".join(file.readlines())\n",
    "\n",
    "raw_sample_data[:100]"
   ]
  },
  {
   "cell_type": "code",
   "execution_count": null,
   "metadata": {},
   "outputs": [],
   "source": [
    "raw_test_data = get_data(day=day, year=year)\n",
    "\n",
    "raw_test_data[:]"
   ]
  },
  {
   "cell_type": "markdown",
   "metadata": {},
   "source": [
    "##### Data Parsing"
   ]
  },
  {
   "cell_type": "code",
   "execution_count": null,
   "metadata": {},
   "outputs": [],
   "source": [
    "def parse_data(raw_data):\n",
    "    lines = raw_data.splitlines()\n",
    "    \n",
    "    data = {'instructions': [], 'registers': {}}\n",
    "    for line in lines[:3]:\n",
    "        if 'A' in line:\n",
    "            data['registers']['A'] = int(line.replace('Register A: ', ''))\n",
    "        \n",
    "        if 'B' in line:\n",
    "            data['registers']['B'] = int(line.replace('Register B: ', ''))\n",
    "            \n",
    "        if 'C' in line:\n",
    "            data['registers']['C'] = int(line.replace('Register C: ', ''))\n",
    "        \n",
    "    data['instructions'] = [int(x.strip()) for x in lines[-1].replace('Program:' , '').split(',')]\n",
    "    \n",
    "    return data\n",
    "            \n",
    "\n",
    "sample_data = parse_data(raw_sample_data)\n",
    "test_data = parse_data(raw_test_data)\n",
    "\n",
    "sample_data"
   ]
  },
  {
   "cell_type": "markdown",
   "metadata": {},
   "source": [
    "### Part One!"
   ]
  },
  {
   "cell_type": "code",
   "execution_count": 7,
   "metadata": {},
   "outputs": [],
   "source": [
    "use_sample_data = False\n",
    "part = 'a'"
   ]
  },
  {
   "cell_type": "code",
   "execution_count": null,
   "metadata": {},
   "outputs": [],
   "source": [
    "data = sample_data if use_sample_data else test_data\n",
    "data"
   ]
  },
  {
   "cell_type": "code",
   "execution_count": 9,
   "metadata": {},
   "outputs": [],
   "source": [
    "from typing import Dict\n",
    "\n",
    "class Registers():\n",
    "    \n",
    "    def __init__(self, mappings: Dict):\n",
    "        self._registers = mappings\n",
    "        \n",
    "    def __getitem__(self, key):\n",
    "        return self._registers[key]\n",
    "    \n",
    "    def __setitem__(self, key, value):\n",
    "        self._registers[key] = value\n",
    "        \n",
    "    def __repr__(self):\n",
    "        return str(self._registers)\n",
    "    \n",
    "    def __str__(self):\n",
    "        return str(self._registers)\n",
    "    \n",
    "    def __iter__(self):\n",
    "        return iter(self._registers)\n",
    "    \n",
    "    def __len__(self):\n",
    "        return len(self._registers)\n",
    "    \n",
    "    def __contains__(self, key):\n",
    "        return key in self._registers\n",
    "    \n",
    "    def keys(self):\n",
    "        return self._registers.keys()\n",
    "    \n",
    "    def values(self):\n",
    "        return self._registers.values()\n",
    "    \n",
    "    def items(self):\n",
    "        return self._registers.items()\n",
    "    \n",
    "    def copy(self):\n",
    "        return Registers(self._registers.copy())"
   ]
  },
  {
   "cell_type": "code",
   "execution_count": 10,
   "metadata": {},
   "outputs": [],
   "source": [
    "from typing import Union, Tuple, Any, List\n",
    "\n",
    "OperationResult = Tuple[int, Registers, Any]"
   ]
  },
  {
   "cell_type": "code",
   "execution_count": 11,
   "metadata": {},
   "outputs": [],
   "source": [
    "def get_combo(opcode, registers):\n",
    "    if opcode <= 3:\n",
    "        return opcode\n",
    "    \n",
    "    elif opcode == 4:\n",
    "        return registers['A']\n",
    "    \n",
    "    elif opcode == 5:\n",
    "        return registers['B']\n",
    "    \n",
    "    elif opcode == 6:\n",
    "        return registers['C']\n",
    "    \n",
    "    else:\n",
    "        return -1"
   ]
  },
  {
   "cell_type": "code",
   "execution_count": 12,
   "metadata": {},
   "outputs": [],
   "source": [
    "def get_literal(opcode, registers):\n",
    "    return opcode"
   ]
  },
  {
   "cell_type": "code",
   "execution_count": 13,
   "metadata": {},
   "outputs": [],
   "source": [
    "import math\n",
    "\n",
    "def adv(operand:int, registers:Registers, pointer:int) -> OperationResult:\n",
    "    combo = get_combo(operand, registers)\n",
    "    registers['A'] //= 2 ** combo\n",
    "    \n",
    "    return (pointer + 2, registers, None)"
   ]
  },
  {
   "cell_type": "code",
   "execution_count": 14,
   "metadata": {},
   "outputs": [],
   "source": [
    "def bxl(operand:int, registers:Registers, pointer:int) -> OperationResult:\n",
    "    literal = get_literal(operand, registers)\n",
    "    registers['B'] ^= literal\n",
    "    \n",
    "    return (pointer + 2, registers, None)"
   ]
  },
  {
   "cell_type": "code",
   "execution_count": 15,
   "metadata": {},
   "outputs": [],
   "source": [
    "def bst(operand:int, registers:Registers, pointer:int) -> OperationResult:\n",
    "    combo = get_combo(operand, registers)\n",
    "    registers['B'] = combo % 8\n",
    "    \n",
    "    return (pointer + 2, registers, None)"
   ]
  },
  {
   "cell_type": "code",
   "execution_count": 16,
   "metadata": {},
   "outputs": [],
   "source": [
    "def jnz(operand:int, registers:Registers, pointer:int) -> OperationResult:\n",
    "    if registers['A']:\n",
    "        return (get_literal(operand, registers), registers, None)\n",
    "    \n",
    "    return (pointer + 2, registers, None)"
   ]
  },
  {
   "cell_type": "code",
   "execution_count": 17,
   "metadata": {},
   "outputs": [],
   "source": [
    "def bxc(operand:int, registers:Registers, pointer:int) -> OperationResult:\n",
    "    registers['B'] ^= registers['C']\n",
    "    \n",
    "    return (pointer + 2, registers, None)"
   ]
  },
  {
   "cell_type": "code",
   "execution_count": 18,
   "metadata": {},
   "outputs": [],
   "source": [
    "def out(operand:int, registers:Registers, pointer:int) -> OperationResult:\n",
    "    combo = get_combo(operand, registers)\n",
    "    \n",
    "    return (pointer + 2, registers, combo % 8)"
   ]
  },
  {
   "cell_type": "code",
   "execution_count": 19,
   "metadata": {},
   "outputs": [],
   "source": [
    "def bdv(operand:int, registers:Registers, pointer:int) -> OperationResult:\n",
    "    combo = get_combo(operand, registers)\n",
    "    registers['B'] = registers['A'] // 2 ** combo\n",
    "    \n",
    "    return (pointer + 2, registers, None)"
   ]
  },
  {
   "cell_type": "code",
   "execution_count": 20,
   "metadata": {},
   "outputs": [],
   "source": [
    "def cdv(operand:int, registers:Registers, pointer:int) -> OperationResult:\n",
    "    combo = get_combo(operand, registers)\n",
    "    registers['C'] = registers['A'] // 2 ** combo\n",
    "    \n",
    "    return (pointer + 2, registers, None)"
   ]
  },
  {
   "cell_type": "code",
   "execution_count": 21,
   "metadata": {},
   "outputs": [],
   "source": [
    "from typing import Callable\n",
    "\n",
    "def get_operation(opcode:int) -> Callable:\n",
    "    if opcode == 0:\n",
    "        return adv\n",
    "    \n",
    "    elif opcode == 1:\n",
    "        return bxl\n",
    "    \n",
    "    elif opcode == 2:\n",
    "        return bst\n",
    "    \n",
    "    elif opcode == 3:\n",
    "        return jnz\n",
    "    \n",
    "    elif opcode == 4:\n",
    "        return bxc\n",
    "    \n",
    "    elif opcode == 5:\n",
    "        return out\n",
    "    \n",
    "    elif opcode == 6:\n",
    "        return bdv\n",
    "    \n",
    "    elif opcode == 7:\n",
    "        return cdv\n",
    "    "
   ]
  },
  {
   "cell_type": "code",
   "execution_count": 22,
   "metadata": {},
   "outputs": [],
   "source": [
    "def perform_instruction(opcode:int, operand:int, registers:Registers, pointer:int) -> OperationResult:\n",
    "    operation = get_operation(opcode)\n",
    "    \n",
    "    return operation(operand, registers, pointer)"
   ]
  },
  {
   "cell_type": "code",
   "execution_count": 23,
   "metadata": {},
   "outputs": [],
   "source": [
    "def run_program(instructions:List[str], registers:Registers) -> Registers:\n",
    "    pointer = 0\n",
    "    \n",
    "    outputs = []\n",
    "    while pointer < len(instructions):\n",
    "        opcode, operand = instructions[pointer:pointer+2]\n",
    "        \n",
    "        pointer, registers, output = perform_instruction(opcode, operand, registers, pointer)\n",
    "        \n",
    "        if output is not None:\n",
    "            outputs.append(output)\n",
    "    \n",
    "    return (registers, outputs)"
   ]
  },
  {
   "cell_type": "code",
   "execution_count": null,
   "metadata": {},
   "outputs": [],
   "source": [
    "instructions = data['instructions']\n",
    "starting_registers = Registers(data['registers'])\n",
    "\n",
    "registers, output = run_program(instructions, starting_registers.copy())\n",
    "\n",
    "part_a_answer = \",\".join([str(x) for x in output])\n",
    "part_a_answer, use_sample_data"
   ]
  },
  {
   "cell_type": "code",
   "execution_count": null,
   "metadata": {},
   "outputs": [],
   "source": [
    "if not use_sample_data and part == 'a':\n",
    "    submit(answer=part_a_answer, part='a', day=day, year=year, reopen=True)"
   ]
  },
  {
   "cell_type": "markdown",
   "metadata": {},
   "source": [
    "### Part Two!"
   ]
  },
  {
   "cell_type": "code",
   "execution_count": 49,
   "metadata": {},
   "outputs": [],
   "source": [
    "use_sample_data = False\n",
    "part='b'"
   ]
  },
  {
   "cell_type": "code",
   "execution_count": 50,
   "metadata": {},
   "outputs": [],
   "source": [
    "sample_data = {\n",
    "    'registers': {'A': 2024, 'B': 0, 'C': 0},\n",
    "    'instructions': [0,3,5,4,3,0]\n",
    "}"
   ]
  },
  {
   "cell_type": "code",
   "execution_count": null,
   "metadata": {},
   "outputs": [],
   "source": [
    "data = sample_data if use_sample_data else test_data\n",
    "\n",
    "data"
   ]
  },
  {
   "cell_type": "code",
   "execution_count": 52,
   "metadata": {},
   "outputs": [],
   "source": [
    "import numpy as np\n",
    "\n",
    "def find_program_copy_locations(instructions:List[int], instruction_idx=None, reg_a=0) -> List[int]:\n",
    "    instruction_idx\n",
    "    if instruction_idx < 0:\n",
    "        return reg_a\n",
    "\n",
    "    for candidate in range(8):\n",
    "        val = reg_a * 8 + candidate\n",
    "        _, output = run_program(instructions, Registers({'A': val, 'B': 0, 'C': 0}))\n",
    "\n",
    "        if output and output[0] == instructions[instruction_idx]:\n",
    "            result = find_program_copy_locations(instructions, instruction_idx - 1, val)\n",
    "\n",
    "            if result is not None:\n",
    "                return result\n",
    "            \n",
    "    return None \n",
    "             "
   ]
  },
  {
   "cell_type": "code",
   "execution_count": null,
   "metadata": {},
   "outputs": [],
   "source": [
    "instructions = data['instructions']\n",
    "starting_registers = Registers(data['registers'])\n",
    "\n",
    "part_b_answer = find_program_copy_locations(instructions)\n",
    "part_b_answer"
   ]
  },
  {
   "cell_type": "code",
   "execution_count": null,
   "metadata": {},
   "outputs": [],
   "source": [
    "if not use_sample_data and part == 'b':\n",
    "    submit(answer=part_b_answer, part='b', day=day, year=year, reopen=True)"
   ]
  },
  {
   "cell_type": "code",
   "execution_count": null,
   "metadata": {},
   "outputs": [],
   "source": []
  }
 ],
 "metadata": {
  "kernelspec": {
   "display_name": ".venv",
   "language": "python",
   "name": "python3"
  },
  "language_info": {
   "codemirror_mode": {
    "name": "ipython",
    "version": 3
   },
   "file_extension": ".py",
   "mimetype": "text/x-python",
   "name": "python",
   "nbconvert_exporter": "python",
   "pygments_lexer": "ipython3",
   "version": "3.13.1"
  }
 },
 "nbformat": 4,
 "nbformat_minor": 2
}
