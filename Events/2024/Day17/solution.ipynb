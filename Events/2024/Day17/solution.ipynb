{
 "cells": [
  {
   "cell_type": "markdown",
   "metadata": {},
   "source": [
    "# Advent of Code 2024 Day 17 "
   ]
  },
  {
   "cell_type": "markdown",
   "metadata": {},
   "source": [
    "### Setup"
   ]
  },
  {
   "cell_type": "code",
   "execution_count": 239,
   "metadata": {},
   "outputs": [],
   "source": [
    "from aocd import get_data, submit\n",
    "\n",
    "day = 17\n",
    "year = 2024\n"
   ]
  },
  {
   "cell_type": "code",
   "execution_count": 240,
   "metadata": {},
   "outputs": [
    {
     "data": {
      "text/plain": [
       "'Register A: 729\\nRegister B: 0\\nRegister C: 0\\n\\nProgram: 0,1,5,4,3,0'"
      ]
     },
     "execution_count": 240,
     "metadata": {},
     "output_type": "execute_result"
    }
   ],
   "source": [
    "with open('example.txt', 'r') as file:\n",
    "    raw_sample_data = \"\".join(file.readlines())\n",
    "\n",
    "raw_sample_data[:100]"
   ]
  },
  {
   "cell_type": "code",
   "execution_count": 241,
   "metadata": {},
   "outputs": [
    {
     "data": {
      "text/plain": [
       "'Register A: 21539243\\nRegister B: 0\\nRegister C: 0\\n\\nProgram: 2,4,1,3,7,5,1,5,0,3,4,1,5,5,3,0'"
      ]
     },
     "execution_count": 241,
     "metadata": {},
     "output_type": "execute_result"
    }
   ],
   "source": [
    "raw_test_data = get_data(day=day, year=year)\n",
    "\n",
    "raw_test_data[:]"
   ]
  },
  {
   "cell_type": "markdown",
   "metadata": {},
   "source": [
    "##### Data Parsing"
   ]
  },
  {
   "cell_type": "code",
   "execution_count": 242,
   "metadata": {},
   "outputs": [
    {
     "data": {
      "text/plain": [
       "{'instructions': [0, 1, 5, 4, 3, 0], 'registers': {'A': 729, 'B': 0, 'C': 0}}"
      ]
     },
     "execution_count": 242,
     "metadata": {},
     "output_type": "execute_result"
    }
   ],
   "source": [
    "def parse_data(raw_data):\n",
    "    lines = raw_data.splitlines()\n",
    "    \n",
    "    data = {'instructions': [], 'registers': {}}\n",
    "    for line in lines[:3]:\n",
    "        if 'A' in line:\n",
    "            data['registers']['A'] = int(line.replace('Register A: ', ''))\n",
    "        \n",
    "        if 'B' in line:\n",
    "            data['registers']['B'] = int(line.replace('Register B: ', ''))\n",
    "            \n",
    "        if 'C' in line:\n",
    "            data['registers']['C'] = int(line.replace('Register C: ', ''))\n",
    "        \n",
    "    data['instructions'] = [int(x.strip()) for x in lines[-1].replace('Program:' , '').split(',')]\n",
    "    \n",
    "    return data\n",
    "            \n",
    "\n",
    "sample_data = parse_data(raw_sample_data)\n",
    "test_data = parse_data(raw_test_data)\n",
    "\n",
    "sample_data"
   ]
  },
  {
   "cell_type": "markdown",
   "metadata": {},
   "source": [
    "### Part One!"
   ]
  },
  {
   "cell_type": "code",
   "execution_count": 243,
   "metadata": {},
   "outputs": [],
   "source": [
    "use_sample_data = False\n",
    "part = 'a'"
   ]
  },
  {
   "cell_type": "code",
   "execution_count": 244,
   "metadata": {},
   "outputs": [
    {
     "data": {
      "text/plain": [
       "{'instructions': [2, 4, 1, 3, 7, 5, 1, 5, 0, 3, 4, 1, 5, 5, 3, 0],\n",
       " 'registers': {'A': 21539243, 'B': 0, 'C': 0}}"
      ]
     },
     "execution_count": 244,
     "metadata": {},
     "output_type": "execute_result"
    }
   ],
   "source": [
    "data = sample_data if use_sample_data else test_data\n",
    "data"
   ]
  },
  {
   "cell_type": "code",
   "execution_count": 245,
   "metadata": {},
   "outputs": [],
   "source": [
    "from typing import Dict\n",
    "\n",
    "class Registers():\n",
    "    \n",
    "    def __init__(self, mappings: Dict):\n",
    "        self._registers = mappings\n",
    "        \n",
    "    def __getitem__(self, key):\n",
    "        return self._registers[key]\n",
    "    \n",
    "    def __setitem__(self, key, value):\n",
    "        self._registers[key] = value\n",
    "        \n",
    "    def __repr__(self):\n",
    "        return str(self._registers)\n",
    "    \n",
    "    def __str__(self):\n",
    "        return str(self._registers)\n",
    "    \n",
    "    def __iter__(self):\n",
    "        return iter(self._registers)\n",
    "    \n",
    "    def __len__(self):\n",
    "        return len(self._registers)\n",
    "    \n",
    "    def __contains__(self, key):\n",
    "        return key in self._registers\n",
    "    \n",
    "    def keys(self):\n",
    "        return self._registers.keys()\n",
    "    \n",
    "    def values(self):\n",
    "        return self._registers.values()\n",
    "    \n",
    "    def items(self):\n",
    "        return self._registers.items()\n",
    "    \n",
    "    def copy(self):\n",
    "        return Registers(self._registers.copy())"
   ]
  },
  {
   "cell_type": "code",
   "execution_count": 246,
   "metadata": {},
   "outputs": [],
   "source": [
    "from typing import Union, Tuple, Any, List\n",
    "\n",
    "OperationResult = Tuple[int, Registers, Any]"
   ]
  },
  {
   "cell_type": "code",
   "execution_count": 247,
   "metadata": {},
   "outputs": [],
   "source": [
    "def get_combo(opcode, registers):\n",
    "    if opcode <= 3:\n",
    "        return opcode\n",
    "    \n",
    "    elif opcode == 4:\n",
    "        return registers['A']\n",
    "    \n",
    "    elif opcode == 5:\n",
    "        return registers['B']\n",
    "    \n",
    "    elif opcode == 6:\n",
    "        return registers['C']\n",
    "    \n",
    "    else:\n",
    "        return -1"
   ]
  },
  {
   "cell_type": "code",
   "execution_count": 248,
   "metadata": {},
   "outputs": [],
   "source": [
    "def get_literal(opcode, registers):\n",
    "    return opcode"
   ]
  },
  {
   "cell_type": "code",
   "execution_count": 249,
   "metadata": {},
   "outputs": [],
   "source": [
    "import math\n",
    "\n",
    "def adv(operand:int, registers:Registers, pointer:int) -> OperationResult:\n",
    "    combo = get_combo(operand, registers)\n",
    "    registers['A'] //= 2 ** combo\n",
    "    \n",
    "    return (pointer + 2, registers, None)"
   ]
  },
  {
   "cell_type": "code",
   "execution_count": 250,
   "metadata": {},
   "outputs": [],
   "source": [
    "def bxl(operand:int, registers:Registers, pointer:int) -> OperationResult:\n",
    "    literal = get_literal(operand, registers)\n",
    "    registers['B'] ^= literal\n",
    "    \n",
    "    return (pointer + 2, registers, None)"
   ]
  },
  {
   "cell_type": "code",
   "execution_count": 251,
   "metadata": {},
   "outputs": [],
   "source": [
    "def bst(operand:int, registers:Registers, pointer:int) -> OperationResult:\n",
    "    combo = get_combo(operand, registers)\n",
    "    registers['B'] = combo % 8\n",
    "    \n",
    "    return (pointer + 2, registers, None)"
   ]
  },
  {
   "cell_type": "code",
   "execution_count": 252,
   "metadata": {},
   "outputs": [],
   "source": [
    "def jnz(operand:int, registers:Registers, pointer:int) -> OperationResult:\n",
    "    if registers['A']:\n",
    "        return (get_literal(operand, registers), registers, None)\n",
    "    \n",
    "    return (pointer + 2, registers, None)"
   ]
  },
  {
   "cell_type": "code",
   "execution_count": 253,
   "metadata": {},
   "outputs": [],
   "source": [
    "def bxc(operand:int, registers:Registers, pointer:int) -> OperationResult:\n",
    "    registers['B'] ^= registers['C']\n",
    "    \n",
    "    return (pointer + 2, registers, None)"
   ]
  },
  {
   "cell_type": "code",
   "execution_count": 254,
   "metadata": {},
   "outputs": [],
   "source": [
    "def out(operand:int, registers:Registers, pointer:int) -> OperationResult:\n",
    "    combo = get_combo(operand, registers)\n",
    "    \n",
    "    return (pointer + 2, registers, combo % 8)"
   ]
  },
  {
   "cell_type": "code",
   "execution_count": 255,
   "metadata": {},
   "outputs": [],
   "source": [
    "def bdv(operand:int, registers:Registers, pointer:int) -> OperationResult:\n",
    "    combo = get_combo(operand, registers)\n",
    "    registers['B'] = registers['A'] // 2 ** combo\n",
    "    \n",
    "    return (pointer + 2, registers, None)"
   ]
  },
  {
   "cell_type": "code",
   "execution_count": 256,
   "metadata": {},
   "outputs": [],
   "source": [
    "def cdv(operand:int, registers:Registers, pointer:int) -> OperationResult:\n",
    "    combo = get_combo(operand, registers)\n",
    "    registers['C'] = registers['A'] // 2 ** combo\n",
    "    \n",
    "    return (pointer + 2, registers, None)"
   ]
  },
  {
   "cell_type": "code",
   "execution_count": 257,
   "metadata": {},
   "outputs": [],
   "source": [
    "from typing import Callable\n",
    "\n",
    "def get_operation(opcode:int) -> Callable:\n",
    "    if opcode == 0:\n",
    "        return adv\n",
    "    \n",
    "    elif opcode == 1:\n",
    "        return bxl\n",
    "    \n",
    "    elif opcode == 2:\n",
    "        return bst\n",
    "    \n",
    "    elif opcode == 3:\n",
    "        return jnz\n",
    "    \n",
    "    elif opcode == 4:\n",
    "        return bxc\n",
    "    \n",
    "    elif opcode == 5:\n",
    "        return out\n",
    "    \n",
    "    elif opcode == 6:\n",
    "        return bdv\n",
    "    \n",
    "    elif opcode == 7:\n",
    "        return cdv\n",
    "    "
   ]
  },
  {
   "cell_type": "code",
   "execution_count": 258,
   "metadata": {},
   "outputs": [],
   "source": [
    "def perform_instruction(opcode:int, operand:int, registers:Registers, pointer:int) -> OperationResult:\n",
    "    operation = get_operation(opcode)\n",
    "    \n",
    "    return operation(operand, registers, pointer)"
   ]
  },
  {
   "cell_type": "code",
   "execution_count": 259,
   "metadata": {},
   "outputs": [],
   "source": [
    "def run_program(instructions:List[str], registers:Registers) -> Registers:\n",
    "    pointer = 0\n",
    "    \n",
    "    outputs = []\n",
    "    while pointer < len(instructions):\n",
    "        opcode, operand = instructions[pointer:pointer+2]\n",
    "        \n",
    "        pointer, registers, output = perform_instruction(opcode, operand, registers, pointer)\n",
    "        \n",
    "        if output is not None:\n",
    "            outputs.append(output)\n",
    "    \n",
    "    return (registers, outputs)"
   ]
  },
  {
   "cell_type": "code",
   "execution_count": 260,
   "metadata": {},
   "outputs": [
    {
     "data": {
      "text/plain": [
       "('6,7,5,2,1,3,5,1,7', False)"
      ]
     },
     "execution_count": 260,
     "metadata": {},
     "output_type": "execute_result"
    }
   ],
   "source": [
    "instructions = data['instructions']\n",
    "starting_registers = Registers(data['registers'])\n",
    "\n",
    "registers, output = run_program(instructions, starting_registers.copy())\n",
    "\n",
    "part_a_answer = \",\".join([str(x) for x in output])\n",
    "part_a_answer, use_sample_data"
   ]
  },
  {
   "cell_type": "code",
   "execution_count": 261,
   "metadata": {},
   "outputs": [
    {
     "name": "stdout",
     "output_type": "stream",
     "text": [
      "\u001b[32mThat's the right answer!  You are one gold star closer to finding the Chief Historian. [Continue to Part Two]\u001b[0m\n"
     ]
    }
   ],
   "source": [
    "if not use_sample_data and part == 'a':\n",
    "    submit(answer=part_a_answer, part='a', day=day, year=year, reopen=True)"
   ]
  },
  {
   "cell_type": "markdown",
   "metadata": {},
   "source": [
    "### Part Two!"
   ]
  },
  {
   "cell_type": "code",
   "execution_count": 275,
   "metadata": {},
   "outputs": [],
   "source": [
    "use_sample_data = True\n",
    "part='b'"
   ]
  },
  {
   "cell_type": "code",
   "execution_count": 276,
   "metadata": {},
   "outputs": [],
   "source": [
    "data = sample_data if use_sample_data else test_data"
   ]
  },
  {
   "cell_type": "code",
   "execution_count": null,
   "metadata": {},
   "outputs": [],
   "source": [
    "def find_program_copy_locations(instructions:List[int], Registers:Registers) -> List[int]:\n",
    "    "
   ]
  },
  {
   "cell_type": "code",
   "execution_count": null,
   "metadata": {},
   "outputs": [],
   "source": [
    "part_b_answer = 0"
   ]
  },
  {
   "cell_type": "code",
   "execution_count": null,
   "metadata": {},
   "outputs": [],
   "source": [
    "if not use_sample_data and part == 'b':\n",
    "    submit(answer=part_b_answer, part='b', day=day, year=year, reopen=True)"
   ]
  }
 ],
 "metadata": {
  "kernelspec": {
   "display_name": "adventofcode",
   "language": "python",
   "name": "python3"
  },
  "language_info": {
   "codemirror_mode": {
    "name": "ipython",
    "version": 3
   },
   "file_extension": ".py",
   "mimetype": "text/x-python",
   "name": "python",
   "nbconvert_exporter": "python",
   "pygments_lexer": "ipython3",
   "version": "3.13.1"
  }
 },
 "nbformat": 4,
 "nbformat_minor": 2
}
