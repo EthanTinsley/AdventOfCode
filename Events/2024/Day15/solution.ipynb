{
 "cells": [
  {
   "cell_type": "markdown",
   "metadata": {},
   "source": [
    "# Advent of Code 2024 Day 15 "
   ]
  },
  {
   "cell_type": "markdown",
   "metadata": {},
   "source": [
    "### Setup"
   ]
  },
  {
   "cell_type": "code",
   "execution_count": 83,
   "metadata": {},
   "outputs": [],
   "source": [
    "from aocd import get_data, submit\n",
    "\n",
    "day = 15\n",
    "year = 2024\n"
   ]
  },
  {
   "cell_type": "code",
   "execution_count": null,
   "metadata": {},
   "outputs": [],
   "source": [
    "with open('example.txt', 'r') as file:\n",
    "    raw_sample_data = \"\".join(file.readlines())\n",
    "\n",
    "raw_sample_data[:100]"
   ]
  },
  {
   "cell_type": "code",
   "execution_count": null,
   "metadata": {},
   "outputs": [],
   "source": [
    "raw_test_data = get_data(day=day, year=year)\n",
    "\n",
    "raw_test_data[:]"
   ]
  },
  {
   "cell_type": "markdown",
   "metadata": {},
   "source": [
    "##### Data Parsing"
   ]
  },
  {
   "cell_type": "code",
   "execution_count": null,
   "metadata": {},
   "outputs": [],
   "source": [
    "import numpy as np\n",
    "\n",
    "def parse_data(raw_data:str):\n",
    "    lines = raw_data.splitlines()\n",
    "    map_data = [ line for line in lines if '#' in line]\n",
    "    instruction_data = [ line for line in lines if '#' not in line]\n",
    "\n",
    "    map_list = []\n",
    "    for line in map_data:\n",
    "        map_list.append(list(line))\n",
    "    \n",
    "    map_array = np.array(map_list)\n",
    "    start_pos = np.argwhere(map_array == '@')[0]\n",
    "\n",
    "    instructions = []\n",
    "    for line in instruction_data:\n",
    "        for c in line:\n",
    "            instructions.append(c)\n",
    "\n",
    "    return {\n",
    "        'array': map_array,\n",
    "        'instructions': np.array(instructions),\n",
    "        'start_pos': start_pos\n",
    "    }\n",
    "\n",
    "\n",
    "sample_data = parse_data(raw_sample_data)\n",
    "test_data = parse_data(raw_test_data)\n",
    "\n",
    "sample_data"
   ]
  },
  {
   "cell_type": "markdown",
   "metadata": {},
   "source": [
    "### Part One!"
   ]
  },
  {
   "cell_type": "code",
   "execution_count": 87,
   "metadata": {},
   "outputs": [],
   "source": [
    "use_sample_data = False\n",
    "part = 'a'"
   ]
  },
  {
   "cell_type": "code",
   "execution_count": null,
   "metadata": {},
   "outputs": [],
   "source": [
    "data = sample_data if use_sample_data else test_data\n",
    "\n",
    "data"
   ]
  },
  {
   "cell_type": "code",
   "execution_count": 89,
   "metadata": {},
   "outputs": [],
   "source": [
    "from typing import Literal, Union, List\n",
    "\n",
    "Instruction = Literal['<', '>', '^', 'v']\n",
    "Wall = Literal['#']\n",
    "Empty = Literal['.']\n",
    "Tile = Union[Wall, Empty]\n",
    "Box = Literal['O']\n",
    "Robot = Literal['@']\n",
    "BoxHalf = Literal['[', ']']\n",
    "\n",
    "Marker = Union[Tile, Box, Robot]"
   ]
  },
  {
   "cell_type": "code",
   "execution_count": 90,
   "metadata": {},
   "outputs": [],
   "source": [
    "def get_instruction_coords(instruction: Instruction, pos: np.ndarray):\n",
    "    if instruction == '^':\n",
    "        return pos + np.array([-1, 0])\n",
    "    if instruction == 'v':\n",
    "        return pos + np.array([1, 0])\n",
    "    if instruction == '<':\n",
    "        return pos + np.array([0, -1])\n",
    "    if instruction == '>':\n",
    "        return pos + np.array([0, 1])"
   ]
  },
  {
   "cell_type": "code",
   "execution_count": 91,
   "metadata": {},
   "outputs": [],
   "source": [
    "def is_box_half(marker: Marker):\n",
    "    return marker in ['[', ']']"
   ]
  },
  {
   "cell_type": "code",
   "execution_count": 92,
   "metadata": {},
   "outputs": [],
   "source": [
    "def get_other_box_half_marker(marker: Marker):\n",
    "    if marker == '[':\n",
    "        return ']'\n",
    "    if marker == ']':\n",
    "        return '['"
   ]
  },
  {
   "cell_type": "code",
   "execution_count": 93,
   "metadata": {},
   "outputs": [],
   "source": [
    "def get_box_half_coords(pos: np.ndarray, marker: BoxHalf):\n",
    "    vector = np.array([0, 1] if marker == '[' else [0, -1])\n",
    "    return pos + vector"
   ]
  },
  {
   "cell_type": "code",
   "execution_count": 94,
   "metadata": {},
   "outputs": [],
   "source": [
    "def perform_instruction(array: np.ndarray, pos: np.ndarray, instruction: Instruction, ignore_half_box: bool = False):\n",
    "    arr = array.copy()\n",
    "    marker = arr[pos[0], pos[1]]\n",
    "    next_pos = get_instruction_coords(instruction, pos)\n",
    "    \n",
    "    if arr[next_pos[0], next_pos[1]] == '#':\n",
    "        return array, pos\n",
    "    \n",
    "    elif arr[next_pos[0], next_pos[1]] == '.':\n",
    "        arr[pos[0], pos[1]] = '.'\n",
    "        arr[next_pos[0], next_pos[1]] = marker\n",
    "    \n",
    "    elif arr[next_pos[0], next_pos[1]] == 'O' or is_box_half(arr[next_pos[0], next_pos[1]]):\n",
    "        arr, res_pos = perform_instruction(arr, next_pos, instruction)\n",
    "\n",
    "        # no go \n",
    "        if next_pos[0] == res_pos[0] and next_pos[1] == res_pos[1]:\n",
    "            return array, pos\n",
    "\n",
    "        arr[pos[0], pos[1]] = '.'\n",
    "        arr[next_pos[0], next_pos[1]] = marker\n",
    "    \n",
    "    if is_box_half(marker) and instruction in ['v', '^'] and not ignore_half_box:\n",
    "        other_half_pos = get_box_half_coords(pos, marker)\n",
    "        arr, res_pos = perform_instruction(arr, other_half_pos, instruction, ignore_half_box=True)\n",
    "\n",
    "        # no go\n",
    "        if other_half_pos[0] == res_pos[0] and other_half_pos[1] == res_pos[1]:\n",
    "            return array, pos\n",
    "        \n",
    "        arr[other_half_pos[0], other_half_pos[1]] = '.'\n",
    "        arr[res_pos[0], res_pos[1]] = get_other_box_half_marker(marker)\n",
    "\n",
    "    return arr, next_pos\n",
    "    "
   ]
  },
  {
   "cell_type": "code",
   "execution_count": 95,
   "metadata": {},
   "outputs": [],
   "source": [
    "def perform_instructions(array: np.ndarray, start_pos: tuple[int, int], instructions: List[Instruction]):\n",
    "    arr = array.copy()\n",
    "    pos = start_pos\n",
    "    for instruction in instructions:\n",
    "        arr, pos = perform_instruction(arr, pos, instruction)\n",
    "        \n",
    "    return arr, pos"
   ]
  },
  {
   "cell_type": "code",
   "execution_count": 96,
   "metadata": {},
   "outputs": [],
   "source": [
    "def calculate_gps_coords(array: np.ndarray, marker: Marker):\n",
    "    indices = np.argwhere(array == marker)\n",
    "\n",
    "    return np.sum(indices * np.array([100, 1]), axis=1)"
   ]
  },
  {
   "cell_type": "code",
   "execution_count": null,
   "metadata": {},
   "outputs": [],
   "source": [
    "data = {k: v.copy() for k, v in data.items()}\n",
    "\n",
    "arr, _ = perform_instructions(**data)\n",
    "\n",
    "gps_coords = calculate_gps_coords(arr, 'O')\n",
    "\n",
    "part_a_answer = np.sum(gps_coords)\n",
    "part_a_answer"
   ]
  },
  {
   "cell_type": "code",
   "execution_count": null,
   "metadata": {},
   "outputs": [],
   "source": [
    "if not use_sample_data and part == 'a':\n",
    "    submit(answer=part_a_answer, part='a', day=day, year=year, reopen=True)"
   ]
  },
  {
   "cell_type": "markdown",
   "metadata": {},
   "source": [
    "### Part Two!"
   ]
  },
  {
   "cell_type": "code",
   "execution_count": 104,
   "metadata": {},
   "outputs": [],
   "source": [
    "use_sample_data = False\n",
    "part='b'"
   ]
  },
  {
   "cell_type": "code",
   "execution_count": null,
   "metadata": {},
   "outputs": [],
   "source": [
    "import numpy as np\n",
    "\n",
    "def parse_data(raw_data:str):\n",
    "    lines = raw_data.splitlines()\n",
    "    map_data = [ line for line in lines if '#' in line]\n",
    "    instruction_data = [ line for line in lines if '#' not in line]\n",
    "\n",
    "    map_list = []\n",
    "    for line in map_data:\n",
    "        scaled_line = []\n",
    "        for c in line:\n",
    "            if c == '.':\n",
    "                scaled_line.append('.')\n",
    "                scaled_line.append('.')\n",
    "            elif c == '#':\n",
    "                scaled_line.append('#')\n",
    "                scaled_line.append('#')\n",
    "            elif c == '@':\n",
    "                scaled_line.append('@')\n",
    "                scaled_line.append('.')\n",
    "            elif c == 'O':\n",
    "                scaled_line.append('[')\n",
    "                scaled_line.append(']')\n",
    "                \n",
    "        map_list.append(scaled_line)\n",
    "    \n",
    "    map_array = np.array(map_list)\n",
    "    start_pos = np.argwhere(map_array == '@')[0]\n",
    "\n",
    "    instructions = []\n",
    "    for line in instruction_data:\n",
    "        for c in line:\n",
    "            instructions.append(c)\n",
    "\n",
    "    return {\n",
    "        'array': map_array,\n",
    "        'instructions': np.array(instructions),\n",
    "        'start_pos': start_pos\n",
    "    }\n",
    "\n",
    "\n",
    "sample_data = parse_data(raw_sample_data)\n",
    "test_data = parse_data(raw_test_data)\n",
    "\n",
    "sample_data"
   ]
  },
  {
   "cell_type": "code",
   "execution_count": 106,
   "metadata": {},
   "outputs": [],
   "source": [
    "data = sample_data if use_sample_data else test_data"
   ]
  },
  {
   "cell_type": "code",
   "execution_count": null,
   "metadata": {},
   "outputs": [],
   "source": [
    "data = {k: v.copy() for k, v in data.items()}\n",
    "\n",
    "arr, _ = perform_instructions(**data)\n",
    "\n",
    "gps_coords = calculate_gps_coords(arr, '[')\n",
    "\n",
    "part_b_answer = np.sum(gps_coords)\n",
    "part_b_answer"
   ]
  },
  {
   "cell_type": "code",
   "execution_count": null,
   "metadata": {},
   "outputs": [],
   "source": [
    "if not use_sample_data and part == 'b':\n",
    "    submit(answer=part_b_answer, part='b', day=day, year=year, reopen=True)"
   ]
  },
  {
   "cell_type": "code",
   "execution_count": null,
   "metadata": {},
   "outputs": [],
   "source": []
  }
 ],
 "metadata": {
  "kernelspec": {
   "display_name": ".venv",
   "language": "python",
   "name": "python3"
  },
  "language_info": {
   "codemirror_mode": {
    "name": "ipython",
    "version": 3
   },
   "file_extension": ".py",
   "mimetype": "text/x-python",
   "name": "python",
   "nbconvert_exporter": "python",
   "pygments_lexer": "ipython3",
   "version": "3.13.1"
  }
 },
 "nbformat": 4,
 "nbformat_minor": 2
}
